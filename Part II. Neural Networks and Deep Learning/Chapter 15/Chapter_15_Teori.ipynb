{
  "nbformat": 4,
  "nbformat_minor": 0,
  "metadata": {
    "colab": {
      "provenance": [],
      "authorship_tag": "ABX9TyP0h+2JmKqWF0OJzEmcmDx2",
      "include_colab_link": true
    },
    "kernelspec": {
      "name": "python3",
      "display_name": "Python 3"
    },
    "language_info": {
      "name": "python"
    }
  },
  "cells": [
    {
      "cell_type": "markdown",
      "metadata": {
        "id": "view-in-github",
        "colab_type": "text"
      },
      "source": [
        "<a href=\"https://colab.research.google.com/github/muhiqbalalamin/DeepLearning-UAS/blob/main/Chapter_15_Teori.ipynb\" target=\"_parent\"><img src=\"https://colab.research.google.com/assets/colab-badge.svg\" alt=\"Open In Colab\"/></a>"
      ]
    },
    {
      "cell_type": "markdown",
      "source": [
        "# **Processing Sequences Using RNNs and CNNs**"
      ],
      "metadata": {
        "id": "sEFyd1plRkbV"
      }
    },
    {
      "cell_type": "markdown",
      "source": [
        "## Tujuan Bab\n",
        "Bab ini membahas teknik pemrosesan data sekuensial seperti:\n",
        "\n",
        "* Teks (Natural Language Processing)\n",
        "\n",
        "* Deret waktu (time series) seperti data cuaca atau harga saham\n",
        "\n",
        "* Audio (suara dan ucapan)\n",
        "\n",
        "Model yang dibahas meliputi:\n",
        "\n",
        "* Recurrent Neural Networks (RNN)\n",
        "\n",
        "* LSTM dan GRU\n",
        "\n",
        "* Convolutional Neural Networks 1D (CNN 1D)\n",
        "\n",
        "## Karakteristik Data Sekuensial\n",
        "Ciri khas data sekuensial:\n",
        "\n",
        "* Urutan sangat penting, tidak dapat diacak\n",
        "\n",
        "* Panjang urutan bisa bervariasi\n",
        "\n",
        "* Terdapat korelasi temporal antar elemen\n",
        "\n",
        "Contoh:\n",
        "\n",
        "“saya makan nasi” ≠ “nasi makan saya”"
      ],
      "metadata": {
        "id": "VInRzsFJRl2s"
      }
    },
    {
      "cell_type": "markdown",
      "source": [
        "# **Recurrent Neural Networks (RNN)**\n",
        "## Arsitektur Dasar\n",
        "Setiap langkah waktu memproses:\n",
        "\n",
        "* Input saat ini: 𝑥𝑡\n",
        "\n",
        "* State dari langkah sebelumnya: ℎ𝑡−1\n",
        "\n",
        "Perhitungan state dan output:\n",
        "\n",
        "\\[\n",
        "$h_t = \\phi(W_{xh} x_t + W_{hh} h_{t-1} + b_h)$\n",
        "\\]\n",
        "\\[\n",
        "$y_t = W_{hy} h_t + b_y$\n",
        "\\]\n",
        "\n",
        "* \\($ \\phi $\\): fungsi aktivasi (biasanya tanh atau ReLU)\n",
        "\n",
        "## Masalah Umum pada RNN\n",
        "1. Vanishing Gradients – gradien mengecil hingga hilang\n",
        "\n",
        "2. Exploding Gradients – gradien membesar secara tidak terkendali\n",
        "\n",
        "## Solusi:\n",
        "* Truncated Backpropagation Through Time (TBPTT)\n",
        "\n",
        "* Gunakan arsitektur seperti LSTM dan GRU"
      ],
      "metadata": {
        "id": "pORTxqeER8jk"
      }
    },
    {
      "cell_type": "markdown",
      "source": [
        "# **LSTM (Long Short-Term Memory)**\n",
        "Memperkenalkan cell state 𝐶𝑡 untuk menyimpan informasi jangka panjang.\n",
        "\n",
        "## Komponen LSTM:\n",
        "* Forget Gate:\n",
        "\n",
        "\\[\n",
        "$f_t = \\sigma(W_f [h_{t-1}, x_t] + b_f)$\n",
        "\\]\n",
        "\n",
        "* Input Gate:\n",
        "\n",
        "\\[\n",
        "$i_t = \\sigma(W_i [h_{t-1}, x_t] + b_i)$\n",
        "\\]\n",
        "\n",
        "\\[\n",
        "$\\tilde{C}_t = \\tanh(W_C [h_{t-1}, x_t] + b_C)$\n",
        "\\]\n",
        "\n",
        "* Pembaruan Cell State:\n",
        "\n",
        "\\[\n",
        "$C_t = f_t \\cdot C_{t-1} + i_t \\cdot \\tilde{C}_t$\n",
        "\\]\n",
        "\n",
        "* Output Gate:\n",
        "\n",
        "\\[\n",
        "$o_t = \\sigma(W_o [h_{t-1}, x_t] + b_o)$\n",
        "\\]\n",
        "\n",
        "\\[\n",
        "$h_t = o_t \\cdot \\tanh(C_t)$\n",
        "\\]\n",
        "\n",
        "Kelebihan: LSTM dapat mempertahankan informasi penting dalam jangka panjang serta membuang informasi yang tidak relevan."
      ],
      "metadata": {
        "id": "WXfRI-nXSZpV"
      }
    },
    {
      "cell_type": "markdown",
      "source": [
        "# **GRU (Gated Recurrent Unit)**\n",
        "GRU merupakan versi lebih sederhana dari LSTM:\n",
        "\n",
        "* Tidak memiliki cell state terpisah\n",
        "\n",
        "* Forget gate dan input gate digabungkan\n",
        "\n",
        "## Rumus GRU:\n",
        "* Update Gate:\n",
        "\n",
        "\\[\n",
        "$z_t = \\sigma(W_z [h_{t-1}, x_t])$\n",
        "\\]\n",
        "\n",
        "* Reset Gate:\n",
        "\n",
        "\\[\n",
        "$r_t = \\sigma(W_r [h_{t-1}, x_t])$\n",
        "\\]\n",
        "\n",
        "* Kandidat Aktivasi:\n",
        "\n",
        "\\[\n",
        "$\\tilde{h}_t = \\tanh(W_h [r_t \\cdot h_{t-1}, x_t])$\n",
        "\\]\n",
        "\n",
        "* Output Final:\n",
        "\n",
        "\\[\n",
        "$h_t = (1 - z_t) \\cdot h_{t-1} + z_t \\cdot \\tilde{h}_t$\n",
        "\\]"
      ],
      "metadata": {
        "id": "JwoInSvoStYt"
      }
    },
    {
      "cell_type": "markdown",
      "source": [
        "# **Bidirectional RNN**\n",
        "Melatih dua RNN secara bersamaan:\n",
        "\n",
        "* Satu membaca urutan maju (left to right)\n",
        "\n",
        "* Satu membaca urutan mundur (right to left)\n",
        "\n",
        "Output akhir:\n",
        "\n",
        "\\($[h_t^{\\rightarrow}, h_t^{\\leftarrow}]$\\)\n",
        "\n",
        "Kelebihan: Dapat memahami konteks dari masa lalu dan masa depan secara simultan."
      ],
      "metadata": {
        "id": "0gy8q8X3TAod"
      }
    },
    {
      "cell_type": "markdown",
      "source": [
        "## **1D Convolutional Neural Networks (CNN 1D)**\n",
        "CNN 1D digunakan untuk memproses data sekuensial dengan pola lokal seperti:\n",
        "\n",
        "* N-gram dalam teks\n",
        "\n",
        "* Pola jangka pendek dalam audio atau time series\n",
        "\n",
        "Kelebihan:\n",
        "\n",
        "* Lebih cepat dilatih (komputasi paralel)\n",
        "\n",
        "* Stabil dan mudah diatur\n",
        "\n",
        "* Bisa dikombinasikan dengan RNN/LSTM untuk konteks jangka panjang\n",
        "\n",
        "## **Proses Pelatihan Model Sekuensial**\n",
        "* Gunakan padding untuk menyamakan panjang input\n",
        "\n",
        "* Terapkan masking untuk mengabaikan bagian padding saat training\n",
        "\n",
        "* Gunakan loss function yang sesuai, seperti CTC Loss untuk pengenalan suara\n",
        "\n",
        "## **Aplikasi CNN & RNN dalam NLP**\n",
        "1. Klasifikasi Teks: emosi, spam, topik\n",
        "\n",
        "2. Pemodelan Bahasa: prediksi kata berikutnya\n",
        "\n",
        "3. Terjemahan Mesin (Machine Translation)\n",
        "\n",
        "4. Pengenalan Suara (Speech Recognition)\n",
        "\n",
        "## **Model Hybrid: CNN + RNN**\n",
        "Menggabungkan kelebihan dua pendekatan:\n",
        "\n",
        "* CNN untuk mengekstraksi fitur lokal\n",
        "\n",
        "* RNN untuk menangani dependensi temporal jangka panjang"
      ],
      "metadata": {
        "id": "TJ9q_aAiTM21"
      }
    },
    {
      "cell_type": "markdown",
      "source": [
        "## **Regularisasi & Tuning**\n",
        "Teknik umum untuk meningkatkan performa:\n",
        "\n",
        "* Dropout antar waktu (time step)\n",
        "\n",
        "* Batch Normalization (penggunaan terbatas pada RNN)\n",
        "\n",
        "* Gradient Clipping untuk menghindari exploding gradients\n",
        "\n",
        "# **Kesimpulan**\n",
        "* RNN sangat cocok untuk data sekuensial, tetapi memiliki keterbatasan teknis\n",
        "\n",
        "* LSTM dan GRU mengatasi masalah jangka panjang secara efektif\n",
        "\n",
        "* CNN 1D menawarkan solusi cepat dan efisien untuk banyak tugas sekuensial\n",
        "\n",
        "* Pendekatan bidirectional dan hybrid meningkatkan pemahaman konteks\n",
        "\n",
        "* Pelatihan model sekuensial memerlukan perhatian khusus terhadap padding, masking, dan teknik optimisasi lainnya\n",
        "\n",
        "# **Referensi**\n",
        "Géron, A. (2019). Hands-On Machine Learning with Scikit-Learn, Keras, and TensorFlow. O'Reilly Media."
      ],
      "metadata": {
        "id": "SwPoMai3TjFl"
      }
    }
  ]
}

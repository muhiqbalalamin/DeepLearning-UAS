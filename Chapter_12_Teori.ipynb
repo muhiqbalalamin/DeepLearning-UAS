{
  "nbformat": 4,
  "nbformat_minor": 0,
  "metadata": {
    "colab": {
      "provenance": [],
      "authorship_tag": "ABX9TyM/sWLoNgod012e/YStgxXE",
      "include_colab_link": true
    },
    "kernelspec": {
      "name": "python3",
      "display_name": "Python 3"
    },
    "language_info": {
      "name": "python"
    }
  },
  "cells": [
    {
      "cell_type": "markdown",
      "metadata": {
        "id": "view-in-github",
        "colab_type": "text"
      },
      "source": [
        "<a href=\"https://colab.research.google.com/github/muhiqbalalamin/DeepLearning-UAS/blob/main/Chapter_12_Teori.ipynb\" target=\"_parent\"><img src=\"https://colab.research.google.com/assets/colab-badge.svg\" alt=\"Open In Colab\"/></a>"
      ]
    },
    {
      "cell_type": "markdown",
      "source": [
        "# **Custom Models and Training with TensorFlow**"
      ],
      "metadata": {
        "id": "W-9FKOnd2hW6"
      }
    },
    {
      "cell_type": "markdown",
      "source": [
        "## Tujuan Bab\n",
        "Bab ini membahas fleksibilitas penuh TensorFlow dalam hal:\n",
        "\n",
        "* Membuat model jaringan saraf secara kustom\n",
        "\n",
        "* Melakukan proses pelatihan secara manual\n",
        "\n",
        "* Menggunakan fungsi loss dan optimizer yang dirancang sendiri\n",
        "\n",
        "* Menangani training loop tingkat rendah untuk kontrol maksimal\n",
        "\n",
        "## Arsitektur TensorFlow\n",
        "TensorFlow menyediakan dua tingkat API:\n",
        "\n",
        "1. High-Level API (Keras)\n",
        "Cocok untuk prototyping cepat dan pengembangan umum.\n",
        "\n",
        "2. Low-Level API\n",
        "Memberikan fleksibilitas penuh untuk model kustom dan kebutuhan penelitian tingkat lanjut.\n",
        "\n",
        "## Autodiff (Automatic Differentiation)\n",
        "TensorFlow secara otomatis menghitung turunan dari fungsi loss terhadap parameter model menggunakan:\n",
        "\n",
        "### Gradient Tape API\n",
        "TensorFlow merekam operasi selama forward pass dengan tf.GradientTape, lalu menghitung gradien menggunakan aturan rantai (chain rule):\n",
        "\n",
        "\\[\n",
        "$\\frac{dL}{d\\theta} = \\frac{\\partial L}{\\partial z} \\cdot \\frac{\\partial z}{\\partial \\theta}$\n",
        "\\]\n",
        "\n",
        "* Berguna untuk custom training loop\n",
        "\n",
        "* Dapat digunakan secara nested (bertumpuk)"
      ],
      "metadata": {
        "id": "Hdb7vQ4c2iVA"
      }
    },
    {
      "cell_type": "markdown",
      "source": [
        "## Membuat Model Kustom\n",
        "### Dua pendekatan utama:\n",
        "1. Subclassing tf.keras.Model\n",
        "\n",
        "2. Menggunakan tf.keras.layers.Layer untuk membuat layer khusus\n",
        "\n",
        "Keuntungan menggunakan subclassing:\n",
        "\n",
        "* Memberikan kontrol penuh terhadap proses forward pass melalui metode call()\n",
        "\n",
        "* Dapat menyimpan state internal seperti bobot dan bias\n",
        "\n",
        "## Membuat Layer Sendiri\n",
        "Turunkan dari kelas tf.keras.layers.Layer dan implementasikan:\n",
        "\n",
        "* build(): untuk menginisialisasi parameter\n",
        "\n",
        "* call(inputs): untuk mendefinisikan perhitungan forward\n",
        "\n",
        "Cocok digunakan untuk layer dengan parameter yang dapat dipelajari seperti batch normalization, attention, dan lainnya.\n",
        "\n",
        "## Custom Training Loop\n",
        "Langkah-langkah utama:\n",
        "1. Forward pass – Menghitung prediksi\n",
        "\n",
        "2. Perhitungan loss – Mengevaluasi kesalahan prediksi\n",
        "\n",
        "3. Perhitungan gradien – Menggunakan tf.GradientTape\n",
        "\n",
        "4. Pembaruan bobot – Menggunakan optimizer\n",
        "\n",
        "Memberikan fleksibilitas maksimum, misalnya untuk:\n",
        "\n",
        "* Pembobotan dinamis pada loss\n",
        "\n",
        "* Learning rate berbeda per layer\n",
        "\n",
        "* Penerapan meta-learning atau reinforcement learning"
      ],
      "metadata": {
        "id": "_r0IA-YH23dh"
      }
    },
    {
      "cell_type": "markdown",
      "source": [
        "## Fungsi Loss Kustom\n",
        "Fungsi loss dapat didefinisikan sebagai fungsi Python yang menerima y_true dan y_pred.\n",
        "\n",
        "Contoh umum:\n",
        "\n",
        "* Mean Squared Error (MSE)\n",
        "\n",
        "* Categorical Crossentropy\n",
        "\n",
        "* Hinge Loss (untuk SVM)\n",
        "\n",
        "## Metrik Kustom\n",
        "Serupa dengan fungsi loss, tetapi digunakan untuk pemantauan performa (bukan untuk optimisasi).\n",
        "\n",
        "Syarat utama:\n",
        "\n",
        "* Mempunyai metode update_state, result, dan reset_state\n",
        "\n",
        "Contoh metrik:\n",
        "\n",
        "* Precision\n",
        "\n",
        "* Recall\n",
        "\n",
        "* AUC\n",
        "\n",
        "* F1-score\n",
        "\n",
        "## Logging dan Visualisasi dengan TensorBoard\n",
        "Gunakan API tf.summary untuk mencatat:\n",
        "\n",
        "* Nilai loss dan metrik per epoch\n",
        "\n",
        "* Histogram bobot dan gradien\n",
        "\n",
        "* Visualisasi gambar, audio, dan teks\n",
        "\n",
        "Contoh visualisasi histogram:\n",
        "\n",
        "\\[\n",
        "$\\text{Histogram}(w_i) \\to \\text{Density vs Value}$\n",
        "\\]\n",
        "\n",
        "## Penyimpanan Model\n",
        "Terdapat dua format utama:\n",
        "\n",
        "1. SavedModel – format standar TensorFlow\n",
        "\n",
        "2. HDF5 (.h5) – kompatibel dengan versi Keras lama"
      ],
      "metadata": {
        "id": "aNanNa713KvI"
      }
    },
    {
      "cell_type": "markdown",
      "source": [
        "## Checkpoint Manual\n",
        "Gunakan tf.train.Checkpoint untuk menyimpan:\n",
        "\n",
        "* Model\n",
        "\n",
        "* Optimizer\n",
        "\n",
        "* Step counter\n",
        "\n",
        "* Informasi status lainnya\n",
        "\n",
        "Checkpoint sangat bermanfaat untuk:\n",
        "\n",
        "* Pelatihan yang berlangsung lama\n",
        "\n",
        "* Pemulihan saat terjadi gangguan sistem\n",
        "\n",
        "## Pelatihan Terdistribusi (Sekilas)\n",
        "TensorFlow mendukung pelatihan pada banyak GPU atau mesin dengan tf.distribute.Strategy, seperti:\n",
        "\n",
        "* MirroredStrategy: untuk multi-GPU lokal\n",
        "\n",
        "* MultiWorkerMirroredStrategy: untuk pelatihan multi-node\n",
        "\n",
        "* TPUStrategy: untuk akselerasi dengan TPU di Google Cloud\n",
        "\n",
        "## Mixed Precision Training\n",
        "Melatih model dengan kombinasi tipe data float16 dan float32:\n",
        "\n",
        "* Meningkatkan kecepatan dan efisiensi memori\n",
        "\n",
        "* Tetap menjaga stabilitas numerik\n"
      ],
      "metadata": {
        "id": "I2UlTvI73iTR"
      }
    },
    {
      "cell_type": "markdown",
      "source": [
        "# **Kesimpulan**\n",
        "* TensorFlow memberikan kontrol penuh melalui GradientTape, subclassing model, dan training loop manual.\n",
        "\n",
        "* Cocok untuk eksperimen lanjutan, riset, dan pendekatan kustom.\n",
        "\n",
        "* Fitur seperti logging, checkpointing, dan mixed precision mendukung pelatihan skala besar.\n",
        "\n",
        "* Tetap terintegrasi erat dengan ekosistem Keras yang memudahkan pengembangan.\n",
        "\n",
        "# **Referensi**\n",
        "Géron, A. (2019). Hands-On Machine Learning with Scikit-Learn, Keras, and TensorFlow. O'Reilly Media.\n",
        "\n"
      ],
      "metadata": {
        "id": "UG_czpNI3xuh"
      }
    }
  ]
}
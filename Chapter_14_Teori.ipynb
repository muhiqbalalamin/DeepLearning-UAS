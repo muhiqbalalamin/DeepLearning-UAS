{
  "nbformat": 4,
  "nbformat_minor": 0,
  "metadata": {
    "colab": {
      "provenance": [],
      "authorship_tag": "ABX9TyMGsNS2QU8o7NRFQxCH7KYC",
      "include_colab_link": true
    },
    "kernelspec": {
      "name": "python3",
      "display_name": "Python 3"
    },
    "language_info": {
      "name": "python"
    }
  },
  "cells": [
    {
      "cell_type": "markdown",
      "metadata": {
        "id": "view-in-github",
        "colab_type": "text"
      },
      "source": [
        "<a href=\"https://colab.research.google.com/github/muhiqbalalamin/DeepLearning-UAS/blob/main/Chapter_14_Teori.ipynb\" target=\"_parent\"><img src=\"https://colab.research.google.com/assets/colab-badge.svg\" alt=\"Open In Colab\"/></a>"
      ]
    },
    {
      "cell_type": "markdown",
      "source": [
        "# **Deep Computer Vision Using Convolutional Neural Networks (CNNs)**"
      ],
      "metadata": {
        "id": "nl4gLTFUM3pM"
      }
    },
    {
      "cell_type": "markdown",
      "source": [
        "## Tujuan Bab\n",
        "Bab ini memperkenalkan arsitektur Convolutional Neural Networks (CNN) untuk berbagai tugas penglihatan komputer, antara lain:\n",
        "\n",
        "* Klasifikasi gambar\n",
        "\n",
        "* Ekstraksi fitur spasial\n",
        "\n",
        "* Pengurangan jumlah parameter dibandingkan MLP\n",
        "\n",
        "* Deteksi dan segmentasi objek\n",
        "\n",
        "## Tantangan dalam Pengolahan Gambar\n",
        "Gambar sebagai input memiliki karakteristik khusus:\n",
        "\n",
        "* Dimensi tinggi: misalnya gambar 28×28 menghasilkan 784 input neuron\n",
        "\n",
        "* Struktur spasial: piksel yang berdekatan saling berkorelasi\n",
        "\n",
        "* Redundansi lokal: fitur seperti tepi dan pola sering berulang\n",
        "\n",
        "Model MLP tidak efisien untuk mengeksploitasi struktur ini, sehingga CNN dirancang khusus untuk mengatasinya.\n",
        "\n",
        "## Struktur CNN\n",
        "### Komponen Utama CNN:\n",
        "1. Convolutional Layer\n",
        "\n",
        "2. Pooling Layer\n",
        "\n",
        "3. Fully Connected Layer (Dense)\n",
        "\n",
        "## Operasi Konvolusi\n",
        "### Definisi:\n",
        "Konvolusi adalah operasi antara matriks input dan kernel (filter) yang menghasilkan feature map:\n",
        "\n",
        "\\[\n",
        "$S(i, j) = (I * K)(i, j) = \\sum_m \\sum_n I(i + m, j + n) \\cdot K(m, n)$\n",
        "\\]\n",
        "\n",
        "- \\($ I $\\): input image\n",
        "- \\($ K $\\): kernel/filter\n",
        "- \\($ S $\\): hasil konvolusi\n",
        "\n",
        "\n"
      ],
      "metadata": {
        "id": "7Ga7SkxzM6l8"
      }
    },
    {
      "cell_type": "markdown",
      "source": [
        "## Hyperparameter Konvolusi\n",
        "1. Ukuran filter: biasanya 3×3 atau 5×5\n",
        "\n",
        "2. Stride: langkah pergeseran filter\n",
        "\n",
        "3. Padding:\n",
        "\n",
        "* 'valid': tanpa padding (dimensi output lebih kecil)\n",
        "\n",
        "* 'same': padding agar ukuran output tetap sama\n",
        "\n",
        "4. Depth: jumlah filter menentukan kedalaman output\n",
        "\n",
        "## Feature Map\n",
        "* Setiap filter menangkap pola tertentu (misalnya tepi, tekstur)\n",
        "\n",
        "* Layer yang lebih dalam mendeteksi pola lebih kompleks (dari tepi → bentuk → objek)\n",
        "\n",
        "## Pooling Layer\n",
        "Pooling digunakan untuk:\n",
        "\n",
        "* Mengurangi dimensi spasial\n",
        "\n",
        "* Meningkatkan ketahanan terhadap translasi\n",
        "\n",
        "### Max Pooling:\n",
        "\n",
        "\\[\n",
        "$P(i, j) = \\max_{(m, n) \\in \\text{region}} A(i + m, j + n)$\n",
        "\\]\n",
        "\n",
        "Mengambil nilai maksimum dalam area tertentu (window)."
      ],
      "metadata": {
        "id": "Ow8eNcIYNk4M"
      }
    },
    {
      "cell_type": "markdown",
      "source": [
        "## Arsitektur CNN Standar\n",
        "1. Input: citra (misal: 28×28×1)\n",
        "\n",
        "2. Beberapa layer konvolusi dan pooling\n",
        "\n",
        "3. Flatten layer\n",
        "\n",
        "4. Dense layer\n",
        "\n",
        "5. Output layer (misalnya softmax untuk klasifikasi)\n",
        "\n",
        "## Parameter CNN vs MLP\n",
        "CNN jauh lebih efisien dibandingkan MLP karena:\n",
        "\n",
        "* Konektivitas lokal: neuron hanya terhubung pada sebagian kecil input\n",
        "\n",
        "* Parameter sharing: satu filter digunakan berulang di seluruh input\n",
        "\n",
        "## Activation Map & Filter\n",
        "* Activation map adalah hasil output dari filter setelah fungsi aktivasi\n",
        "\n",
        "* Visualisasi map dan filter membantu memahami pola yang dipelajari model\n",
        "\n",
        "## Augmentasi Data\n",
        "Teknik augmentasi digunakan untuk memperkaya data pelatihan, seperti:\n",
        "\n",
        "* Rotasi acak\n",
        "\n",
        "* Perbesaran (zoom)\n",
        "\n",
        "* Translasi posisi\n",
        "\n",
        " *Flipping horizontal/vertikal\n",
        "\n",
        "Tujuannya adalah meningkatkan generalisasi dan mengurangi overfitting."
      ],
      "metadata": {
        "id": "ZeTTD7zaN6EN"
      }
    },
    {
      "cell_type": "markdown",
      "source": [
        "## Arsitektur CNN Populer\n",
        "### LeNet-5 (1998)\n",
        "* Pionir CNN untuk pengenalan digit tulisan tangan\n",
        "\n",
        "### AlexNet (2012)\n",
        "* Menggunakan ReLU, Dropout, dan GPU untuk pelatihan\n",
        "\n",
        "* Menang kompetisi ImageNet 2012\n",
        "\n",
        "### VGGNet\n",
        "* Konvolusi 3×3 bertumpuk\n",
        "\n",
        "* Arsitektur sangat dalam (16–19 layer)\n",
        "\n",
        "### GoogLeNet (Inception)\n",
        "* Inception module: gabungan kernel 1×1, 3×3, 5×5\n",
        "\n",
        "* Efisien dalam penggunaan parameter\n",
        "\n",
        "### ResNet\n",
        "* Residual connection: 𝑦=𝐹(𝑥)+𝑥\n",
        "\n",
        "* Memungkinkan pelatihan jaringan sangat dalam (>100 layer)\n",
        "\n",
        "## Transfer Learning\n",
        "Menggunakan CNN pretrained (misalnya dari ImageNet), lalu:\n",
        "\n",
        "* Feature extraction: CNN digunakan sebagai ekstraktor fitur\n",
        "\n",
        "* Fine-tuning: sebagian atau seluruh layer dilatih ulang\n",
        "\n",
        "Efektif jika:\n",
        "\n",
        "* Dataset terbatas\n",
        "\n",
        "* Waktu pelatihan terbatas\n",
        "\n",
        "* Domain data serupa dengan dataset pretraining"
      ],
      "metadata": {
        "id": "NiCIavR1OIfE"
      }
    },
    {
      "cell_type": "markdown",
      "source": [
        "## Evaluasi CNN\n",
        "Gunakan metrik evaluasi umum:\n",
        "\n",
        "* Akurasi\n",
        "\n",
        "* Precision, Recall, F1-Score\n",
        "\n",
        "* Confusion Matrix\n",
        "\n",
        "Visualisasi tambahan:\n",
        "\n",
        "* Filter\n",
        "\n",
        "* Activation layer\n",
        "\n",
        "* Saliency maps (menggunakan gradien input)\n",
        "\n",
        "## Regularisasi pada CNN\n",
        "1. Dropout (biasanya sebelum dense layer)\n",
        "\n",
        "2. Batch Normalization\n",
        "\n",
        "3. Weight Decay (L2 Regularization)\n",
        "\n",
        "# **Kesimpulan**\n",
        "* CNN sangat efektif untuk tugas pengolahan citra karena mampu memanfaatkan struktur spasial\n",
        "\n",
        "* Operasi konvolusi dan pooling mengurangi jumlah parameter secara signifikan\n",
        "\n",
        "* Arsitektur CNN modern seperti ResNet dan Inception sangat dalam dan efisien\n",
        "\n",
        "* Transfer learning sangat berguna untuk mempercepat pelatihan model dan mengurangi kebutuhan data besar\n",
        "\n",
        "# **Referensi**\n",
        "Géron, A. (2019). Hands-On Machine Learning with Scikit-Learn, Keras, and TensorFlow. O’Reilly Media."
      ],
      "metadata": {
        "id": "GPYUNsXlOp0g"
      }
    }
  ]
}
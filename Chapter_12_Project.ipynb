{
  "nbformat": 4,
  "nbformat_minor": 0,
  "metadata": {
    "colab": {
      "provenance": [],
      "authorship_tag": "ABX9TyMmx0GzPJpX3meKwv9vDLww",
      "include_colab_link": true
    },
    "kernelspec": {
      "name": "python3",
      "display_name": "Python 3"
    },
    "language_info": {
      "name": "python"
    }
  },
  "cells": [
    {
      "cell_type": "markdown",
      "metadata": {
        "id": "view-in-github",
        "colab_type": "text"
      },
      "source": [
        "<a href=\"https://colab.research.google.com/github/muhiqbalalamin/DeepLearning-UAS/blob/main/Chapter_12_Project.ipynb\" target=\"_parent\"><img src=\"https://colab.research.google.com/assets/colab-badge.svg\" alt=\"Open In Colab\"/></a>"
      ]
    },
    {
      "cell_type": "markdown",
      "source": [
        "## Persiapan"
      ],
      "metadata": {
        "id": "5WhzXE3b4C0Q"
      }
    },
    {
      "cell_type": "code",
      "execution_count": 1,
      "metadata": {
        "id": "txA_Yaw63-AB"
      },
      "outputs": [],
      "source": [
        "# Cek versi Python dan Scikit-Learn\n",
        "import sys, sklearn\n",
        "assert sys.version_info >= (3, 5)\n",
        "assert sklearn.__version__ >= \"0.20\"\n",
        "\n",
        "# Import TensorFlow dan pastikan versinya\n",
        "import tensorflow as tf\n",
        "from tensorflow import keras\n",
        "from packaging import version\n",
        "assert version.parse(tf.__version__) >= version.parse(\"2.4\")\n",
        "\n",
        "# Import umum\n",
        "import numpy as np, os\n",
        "np.random.seed(42)\n",
        "tf.random.set_seed(42)\n",
        "\n",
        "# Visualisasi\n",
        "%matplotlib inline\n",
        "import matplotlib.pyplot as plt\n",
        "import matplotlib as mpl\n",
        "mpl.rc('axes', labelsize=14)\n",
        "mpl.rc('xtick', labelsize=12)\n",
        "mpl.rc('ytick', labelsize=12)\n",
        "\n",
        "# Setup penyimpanan gambar\n",
        "IMAGES_PATH = os.path.join(\".\", \"images\", \"deep\")\n",
        "os.makedirs(IMAGES_PATH, exist_ok=True)\n",
        "\n",
        "def save_fig(fig_id, tight_layout=True, fig_extension=\"png\", resolution=300):\n",
        "    path = os.path.join(IMAGES_PATH, f\"{fig_id}.{fig_extension}\")\n",
        "    print(\"Saving figure\", fig_id)\n",
        "    if tight_layout: plt.tight_layout()\n",
        "    plt.savefig(path, format=fig_extension, dpi=resolution)"
      ]
    },
    {
      "cell_type": "markdown",
      "source": [
        "## Custom Layers"
      ],
      "metadata": {
        "id": "DHnKihXj4VqZ"
      }
    },
    {
      "cell_type": "code",
      "source": [
        "import tensorflow as tf\n",
        "from tensorflow import keras\n",
        "import numpy as np\n",
        "import matplotlib.pyplot as plt\n",
        "from packaging import version\n",
        "\n",
        "assert version.parse(tf.__version__) >= version.parse(\"2.4\")\n",
        "np.random.seed(42)\n",
        "tf.random.set_seed(42)\n",
        "\n",
        "# Dataset dan preprocessing (gunakan dataset dummy regresi jika belum ada)\n",
        "from sklearn.datasets import make_regression\n",
        "from sklearn.model_selection import train_test_split\n",
        "from sklearn.preprocessing import StandardScaler\n",
        "\n",
        "X, y = make_regression(n_samples=1000, n_features=4, noise=0.1)\n",
        "X_train, X_temp, y_train, y_temp = train_test_split(X, y, test_size=0.3, random_state=42)\n",
        "X_valid, X_test, y_valid, y_test = train_test_split(X_temp, y_temp, test_size=0.5)\n",
        "\n",
        "scaler = StandardScaler()\n",
        "X_train_scaled = scaler.fit_transform(X_train)\n",
        "X_valid_scaled = scaler.transform(X_valid)\n",
        "X_test_scaled = scaler.transform(X_test)\n",
        "\n",
        "input_shape = [X.shape[1]]\n",
        "\n",
        "# Custom Layer: Add Gaussian Noise\n",
        "class AddGaussianNoise(keras.layers.Layer):\n",
        "    def __init__(self, stddev, **kwargs):\n",
        "        super().__init__(**kwargs)\n",
        "        self.stddev = stddev\n",
        "\n",
        "    def call(self, X, training=None):\n",
        "        if training:\n",
        "            noise = tf.random.normal(tf.shape(X), stddev=self.stddev)\n",
        "            return X + noise\n",
        "        return X\n",
        "\n",
        "    def compute_output_shape(self, batch_input_shape):\n",
        "        return batch_input_shape\n",
        "\n",
        "# Bangun model dengan custom layer\n",
        "keras.backend.clear_session()\n",
        "\n",
        "model = keras.models.Sequential([\n",
        "    keras.layers.InputLayer(input_shape=input_shape),\n",
        "    AddGaussianNoise(1.0),\n",
        "    keras.layers.Dense(30, activation=\"selu\"),\n",
        "    keras.layers.Dense(1)\n",
        "])\n",
        "\n",
        "model.compile(loss=\"mse\", optimizer=\"nadam\")\n",
        "\n",
        "# Training\n",
        "history = model.fit(X_train_scaled, y_train, epochs=20,\n",
        "                    validation_data=(X_valid_scaled, y_valid))\n",
        "\n",
        "# Evaluasi\n",
        "test_loss = model.evaluate(X_test_scaled, y_test)\n",
        "\n",
        "# Ringkasan Hasil\n",
        "final_train_loss = history.history[\"loss\"][-1]\n",
        "final_val_loss = history.history[\"val_loss\"][-1]\n",
        "\n",
        "print(f\"\\nFinal Training Loss: {final_train_loss:.4f}\")\n",
        "print(f\"Final Validation Loss: {final_val_loss:.4f}\")\n",
        "print(f\"Test Loss: {test_loss:.4f}\")"
      ],
      "metadata": {
        "colab": {
          "base_uri": "https://localhost:8080/"
        },
        "id": "DX14-yIa4WMR",
        "outputId": "38c8d3c5-e43a-4432-d40d-da7ed59a26f6"
      },
      "execution_count": 2,
      "outputs": [
        {
          "output_type": "stream",
          "name": "stderr",
          "text": [
            "/usr/local/lib/python3.11/dist-packages/keras/src/layers/core/input_layer.py:27: UserWarning: Argument `input_shape` is deprecated. Use `shape` instead.\n",
            "  warnings.warn(\n"
          ]
        },
        {
          "output_type": "stream",
          "name": "stdout",
          "text": [
            "Epoch 1/20\n",
            "\u001b[1m22/22\u001b[0m \u001b[32m━━━━━━━━━━━━━━━━━━━━\u001b[0m\u001b[37m\u001b[0m \u001b[1m5s\u001b[0m 33ms/step - loss: 14293.8975 - val_loss: 13919.9102\n",
            "Epoch 2/20\n",
            "\u001b[1m22/22\u001b[0m \u001b[32m━━━━━━━━━━━━━━━━━━━━\u001b[0m\u001b[37m\u001b[0m \u001b[1m1s\u001b[0m 15ms/step - loss: 14230.3457 - val_loss: 13836.7754\n",
            "Epoch 3/20\n",
            "\u001b[1m22/22\u001b[0m \u001b[32m━━━━━━━━━━━━━━━━━━━━\u001b[0m\u001b[37m\u001b[0m \u001b[1m1s\u001b[0m 14ms/step - loss: 14138.2373 - val_loss: 13748.8447\n",
            "Epoch 4/20\n",
            "\u001b[1m22/22\u001b[0m \u001b[32m━━━━━━━━━━━━━━━━━━━━\u001b[0m\u001b[37m\u001b[0m \u001b[1m1s\u001b[0m 17ms/step - loss: 14061.3613 - val_loss: 13658.6787\n",
            "Epoch 5/20\n",
            "\u001b[1m22/22\u001b[0m \u001b[32m━━━━━━━━━━━━━━━━━━━━\u001b[0m\u001b[37m\u001b[0m \u001b[1m1s\u001b[0m 13ms/step - loss: 13967.6475 - val_loss: 13559.3730\n",
            "Epoch 6/20\n",
            "\u001b[1m22/22\u001b[0m \u001b[32m━━━━━━━━━━━━━━━━━━━━\u001b[0m\u001b[37m\u001b[0m \u001b[1m1s\u001b[0m 10ms/step - loss: 13862.2588 - val_loss: 13449.9297\n",
            "Epoch 7/20\n",
            "\u001b[1m22/22\u001b[0m \u001b[32m━━━━━━━━━━━━━━━━━━━━\u001b[0m\u001b[37m\u001b[0m \u001b[1m0s\u001b[0m 13ms/step - loss: 13768.8506 - val_loss: 13334.9434\n",
            "Epoch 8/20\n",
            "\u001b[1m22/22\u001b[0m \u001b[32m━━━━━━━━━━━━━━━━━━━━\u001b[0m\u001b[37m\u001b[0m \u001b[1m1s\u001b[0m 18ms/step - loss: 13639.5840 - val_loss: 13211.9346\n",
            "Epoch 9/20\n",
            "\u001b[1m22/22\u001b[0m \u001b[32m━━━━━━━━━━━━━━━━━━━━\u001b[0m\u001b[37m\u001b[0m \u001b[1m1s\u001b[0m 13ms/step - loss: 13558.8467 - val_loss: 13077.9951\n",
            "Epoch 10/20\n",
            "\u001b[1m22/22\u001b[0m \u001b[32m━━━━━━━━━━━━━━━━━━━━\u001b[0m\u001b[37m\u001b[0m \u001b[1m1s\u001b[0m 23ms/step - loss: 13411.9180 - val_loss: 12928.6338\n",
            "Epoch 11/20\n",
            "\u001b[1m22/22\u001b[0m \u001b[32m━━━━━━━━━━━━━━━━━━━━\u001b[0m\u001b[37m\u001b[0m \u001b[1m0s\u001b[0m 9ms/step - loss: 13288.5215 - val_loss: 12769.1562\n",
            "Epoch 12/20\n",
            "\u001b[1m22/22\u001b[0m \u001b[32m━━━━━━━━━━━━━━━━━━━━\u001b[0m\u001b[37m\u001b[0m \u001b[1m0s\u001b[0m 12ms/step - loss: 13157.0889 - val_loss: 12606.3779\n",
            "Epoch 13/20\n",
            "\u001b[1m22/22\u001b[0m \u001b[32m━━━━━━━━━━━━━━━━━━━━\u001b[0m\u001b[37m\u001b[0m \u001b[1m1s\u001b[0m 16ms/step - loss: 12935.8389 - val_loss: 12428.9580\n",
            "Epoch 14/20\n",
            "\u001b[1m22/22\u001b[0m \u001b[32m━━━━━━━━━━━━━━━━━━━━\u001b[0m\u001b[37m\u001b[0m \u001b[1m0s\u001b[0m 5ms/step - loss: 12668.8887 - val_loss: 12231.5518\n",
            "Epoch 15/20\n",
            "\u001b[1m22/22\u001b[0m \u001b[32m━━━━━━━━━━━━━━━━━━━━\u001b[0m\u001b[37m\u001b[0m \u001b[1m0s\u001b[0m 5ms/step - loss: 12662.0537 - val_loss: 12030.5723\n",
            "Epoch 16/20\n",
            "\u001b[1m22/22\u001b[0m \u001b[32m━━━━━━━━━━━━━━━━━━━━\u001b[0m\u001b[37m\u001b[0m \u001b[1m0s\u001b[0m 5ms/step - loss: 12536.4121 - val_loss: 11824.9414\n",
            "Epoch 17/20\n",
            "\u001b[1m22/22\u001b[0m \u001b[32m━━━━━━━━━━━━━━━━━━━━\u001b[0m\u001b[37m\u001b[0m \u001b[1m0s\u001b[0m 5ms/step - loss: 12181.8408 - val_loss: 11596.4453\n",
            "Epoch 18/20\n",
            "\u001b[1m22/22\u001b[0m \u001b[32m━━━━━━━━━━━━━━━━━━━━\u001b[0m\u001b[37m\u001b[0m \u001b[1m0s\u001b[0m 6ms/step - loss: 12073.7607 - val_loss: 11357.3555\n",
            "Epoch 19/20\n",
            "\u001b[1m22/22\u001b[0m \u001b[32m━━━━━━━━━━━━━━━━━━━━\u001b[0m\u001b[37m\u001b[0m \u001b[1m0s\u001b[0m 5ms/step - loss: 11765.4189 - val_loss: 11108.5068\n",
            "Epoch 20/20\n",
            "\u001b[1m22/22\u001b[0m \u001b[32m━━━━━━━━━━━━━━━━━━━━\u001b[0m\u001b[37m\u001b[0m \u001b[1m0s\u001b[0m 6ms/step - loss: 11662.1650 - val_loss: 10860.6523\n",
            "\u001b[1m5/5\u001b[0m \u001b[32m━━━━━━━━━━━━━━━━━━━━\u001b[0m\u001b[37m\u001b[0m \u001b[1m0s\u001b[0m 7ms/step - loss: 9437.8955  \n",
            "\n",
            "Final Training Loss: 12338.4297\n",
            "Final Validation Loss: 10860.6523\n",
            "Test Loss: 8949.2383\n"
          ]
        }
      ]
    },
    {
      "cell_type": "code",
      "source": [
        "plt.plot(history.history[\"loss\"], label=\"Training Loss\")\n",
        "plt.plot(history.history[\"val_loss\"], label=\"Validation Loss\")\n",
        "plt.xlabel(\"Epochs\")\n",
        "plt.ylabel(\"MSE Loss\")\n",
        "plt.title(\"Training vs Validation Loss\")\n",
        "plt.legend()\n",
        "plt.grid(True)\n",
        "plt.show()"
      ],
      "metadata": {
        "colab": {
          "base_uri": "https://localhost:8080/",
          "height": 481
        },
        "id": "PdswEILq4aSh",
        "outputId": "3dda6955-c41e-4d3b-d016-c09c9f00e059"
      },
      "execution_count": 3,
      "outputs": [
        {
          "output_type": "display_data",
          "data": {
            "text/plain": [
              "<Figure size 640x480 with 1 Axes>"
            ],
            "image/png": "[encoded data removed]"
          },
          "metadata": {}
        }
      ]
    },
    {
      "cell_type": "markdown",
      "source": [
        "## Custom Models"
      ],
      "metadata": {
        "id": "l_NX-NA_4XL4"
      }
    },
    {
      "cell_type": "code",
      "source": [
        "import tensorflow as tf\n",
        "from tensorflow import keras\n",
        "import numpy as np\n",
        "import matplotlib.pyplot as plt\n",
        "from packaging import version\n",
        "from sklearn.datasets import make_regression\n",
        "from sklearn.model_selection import train_test_split\n",
        "from sklearn.preprocessing import StandardScaler\n",
        "\n",
        "assert version.parse(tf.__version__) >= version.parse(\"2.4\")\n",
        "\n",
        "# Dataset dummy\n",
        "X, y = make_regression(n_samples=1000, n_features=4, noise=0.1)\n",
        "X_train, X_temp, y_train, y_temp = train_test_split(X, y, test_size=0.3, random_state=42)\n",
        "X_valid, X_test, y_valid, y_test = train_test_split(X_temp, y_temp, test_size=0.5)\n",
        "\n",
        "scaler = StandardScaler()\n",
        "X_train_scaled = scaler.fit_transform(X_train)\n",
        "X_valid_scaled = scaler.transform(X_valid)\n",
        "X_test_scaled = scaler.transform(X_test)\n",
        "X_new_scaled = X_test_scaled\n",
        "\n",
        "# Custom Residual Block\n",
        "class ResidualBlock(keras.layers.Layer):\n",
        "    def __init__(self, n_layers, n_neurons, **kwargs):\n",
        "        super().__init__(**kwargs)\n",
        "        self.hidden = [keras.layers.Dense(n_neurons, activation=\"elu\",\n",
        "                                          kernel_initializer=\"he_normal\")\n",
        "                       for _ in range(n_layers)]\n",
        "\n",
        "    def call(self, inputs):\n",
        "        Z = inputs\n",
        "        for layer in self.hidden:\n",
        "            Z = layer(Z)\n",
        "        return inputs + Z\n",
        "\n",
        "# Model Residual Regressor\n",
        "keras.backend.clear_session()\n",
        "np.random.seed(42)\n",
        "tf.random.set_seed(42)\n",
        "\n",
        "model = keras.models.Sequential([\n",
        "    keras.layers.Input(shape=[X.shape[1]]),\n",
        "    keras.layers.Dense(30, activation=\"elu\", kernel_initializer=\"he_normal\"),\n",
        "    ResidualBlock(2, 30),\n",
        "    ResidualBlock(2, 30),\n",
        "    ResidualBlock(2, 30),\n",
        "    ResidualBlock(2, 30),\n",
        "    ResidualBlock(2, 30),\n",
        "    keras.layers.Dense(1)\n",
        "])\n",
        "\n",
        "model.compile(loss=\"mse\", optimizer=\"nadam\")\n",
        "\n",
        "# Training dengan validation\n",
        "history = model.fit(X_train_scaled, y_train, epochs=20,\n",
        "                    validation_data=(X_valid_scaled, y_valid))\n",
        "\n",
        "# Evaluasi\n",
        "test_loss = model.evaluate(X_test_scaled, y_test)\n",
        "\n",
        "# Prediksi\n",
        "y_pred = model.predict(X_new_scaled)\n",
        "\n",
        "# Ringkasan hasil\n",
        "final_train_loss = history.history[\"loss\"][-1]\n",
        "final_val_loss = history.history[\"val_loss\"][-1]\n",
        "\n",
        "print(f\"\\nFinal Training Loss: {final_train_loss:.4f}\")\n",
        "print(f\"Final Validation Loss: {final_val_loss:.4f}\")\n",
        "print(f\"Test Loss: {test_loss:.4f}\")"
      ],
      "metadata": {
        "colab": {
          "base_uri": "https://localhost:8080/"
        },
        "id": "5Q-AdFNm4fR5",
        "outputId": "721cbfcf-1d08-4b8c-d1c5-cb0b2343c63f"
      },
      "execution_count": 4,
      "outputs": [
        {
          "output_type": "stream",
          "name": "stdout",
          "text": [
            "Epoch 1/20\n",
            "\u001b[1m22/22\u001b[0m \u001b[32m━━━━━━━━━━━━━━━━━━━━\u001b[0m\u001b[37m\u001b[0m \u001b[1m6s\u001b[0m 21ms/step - loss: 16765.8379 - val_loss: 8566.4834\n",
            "Epoch 2/20\n",
            "\u001b[1m22/22\u001b[0m \u001b[32m━━━━━━━━━━━━━━━━━━━━\u001b[0m\u001b[37m\u001b[0m \u001b[1m0s\u001b[0m 6ms/step - loss: 8761.7207 - val_loss: 1724.1271\n",
            "Epoch 3/20\n",
            "\u001b[1m22/22\u001b[0m \u001b[32m━━━━━━━━━━━━━━━━━━━━\u001b[0m\u001b[37m\u001b[0m \u001b[1m0s\u001b[0m 6ms/step - loss: 1734.5699 - val_loss: 925.7272\n",
            "Epoch 4/20\n",
            "\u001b[1m22/22\u001b[0m \u001b[32m━━━━━━━━━━━━━━━━━━━━\u001b[0m\u001b[37m\u001b[0m \u001b[1m0s\u001b[0m 7ms/step - loss: 977.3683 - val_loss: 637.5720\n",
            "Epoch 5/20\n",
            "\u001b[1m22/22\u001b[0m \u001b[32m━━━━━━━━━━━━━━━━━━━━\u001b[0m\u001b[37m\u001b[0m \u001b[1m0s\u001b[0m 7ms/step - loss: 685.9924 - val_loss: 461.8980\n",
            "Epoch 6/20\n",
            "\u001b[1m22/22\u001b[0m \u001b[32m━━━━━━━━━━━━━━━━━━━━\u001b[0m\u001b[37m\u001b[0m \u001b[1m0s\u001b[0m 8ms/step - loss: 487.5880 - val_loss: 338.5300\n",
            "Epoch 7/20\n",
            "\u001b[1m22/22\u001b[0m \u001b[32m━━━━━━━━━━━━━━━━━━━━\u001b[0m\u001b[37m\u001b[0m \u001b[1m0s\u001b[0m 7ms/step - loss: 350.1888 - val_loss: 245.1868\n",
            "Epoch 8/20\n",
            "\u001b[1m22/22\u001b[0m \u001b[32m━━━━━━━━━━━━━━━━━━━━\u001b[0m\u001b[37m\u001b[0m \u001b[1m0s\u001b[0m 6ms/step - loss: 247.7221 - val_loss: 182.7597\n",
            "Epoch 9/20\n",
            "\u001b[1m22/22\u001b[0m \u001b[32m━━━━━━━━━━━━━━━━━━━━\u001b[0m\u001b[37m\u001b[0m \u001b[1m0s\u001b[0m 9ms/step - loss: 177.3015 - val_loss: 145.5093\n",
            "Epoch 10/20\n",
            "\u001b[1m22/22\u001b[0m \u001b[32m━━━━━━━━━━━━━━━━━━━━\u001b[0m\u001b[37m\u001b[0m \u001b[1m0s\u001b[0m 6ms/step - loss: 132.1799 - val_loss: 119.0720\n",
            "Epoch 11/20\n",
            "\u001b[1m22/22\u001b[0m \u001b[32m━━━━━━━━━━━━━━━━━━━━\u001b[0m\u001b[37m\u001b[0m \u001b[1m0s\u001b[0m 6ms/step - loss: 101.1750 - val_loss: 99.5172\n",
            "Epoch 12/20\n",
            "\u001b[1m22/22\u001b[0m \u001b[32m━━━━━━━━━━━━━━━━━━━━\u001b[0m\u001b[37m\u001b[0m \u001b[1m0s\u001b[0m 7ms/step - loss: 79.8689 - val_loss: 83.9325\n",
            "Epoch 13/20\n",
            "\u001b[1m22/22\u001b[0m \u001b[32m━━━━━━━━━━━━━━━━━━━━\u001b[0m\u001b[37m\u001b[0m \u001b[1m0s\u001b[0m 7ms/step - loss: 64.8586 - val_loss: 72.4276\n",
            "Epoch 14/20\n",
            "\u001b[1m22/22\u001b[0m \u001b[32m━━━━━━━━━━━━━━━━━━━━\u001b[0m\u001b[37m\u001b[0m \u001b[1m0s\u001b[0m 7ms/step - loss: 54.1691 - val_loss: 63.4203\n",
            "Epoch 15/20\n",
            "\u001b[1m22/22\u001b[0m \u001b[32m━━━━━━━━━━━━━━━━━━━━\u001b[0m\u001b[37m\u001b[0m \u001b[1m0s\u001b[0m 7ms/step - loss: 46.1483 - val_loss: 56.4967\n",
            "Epoch 16/20\n",
            "\u001b[1m22/22\u001b[0m \u001b[32m━━━━━━━━━━━━━━━━━━━━\u001b[0m\u001b[37m\u001b[0m \u001b[1m0s\u001b[0m 8ms/step - loss: 39.9724 - val_loss: 51.1783\n",
            "Epoch 17/20\n",
            "\u001b[1m22/22\u001b[0m \u001b[32m━━━━━━━━━━━━━━━━━━━━\u001b[0m\u001b[37m\u001b[0m \u001b[1m0s\u001b[0m 7ms/step - loss: 34.9819 - val_loss: 46.9193\n",
            "Epoch 18/20\n",
            "\u001b[1m22/22\u001b[0m \u001b[32m━━━━━━━━━━━━━━━━━━━━\u001b[0m\u001b[37m\u001b[0m \u001b[1m0s\u001b[0m 6ms/step - loss: 30.8765 - val_loss: 43.5620\n",
            "Epoch 19/20\n",
            "\u001b[1m22/22\u001b[0m \u001b[32m━━━━━━━━━━━━━━━━━━━━\u001b[0m\u001b[37m\u001b[0m \u001b[1m0s\u001b[0m 6ms/step - loss: 27.4121 - val_loss: 40.8157\n",
            "Epoch 20/20\n",
            "\u001b[1m22/22\u001b[0m \u001b[32m━━━━━━━━━━━━━━━━━━━━\u001b[0m\u001b[37m\u001b[0m \u001b[1m0s\u001b[0m 7ms/step - loss: 24.5060 - val_loss: 38.5231\n",
            "\u001b[1m5/5\u001b[0m \u001b[32m━━━━━━━━━━━━━━━━━━━━\u001b[0m\u001b[37m\u001b[0m \u001b[1m0s\u001b[0m 8ms/step - loss: 67.0575 \n",
            "\u001b[1m5/5\u001b[0m \u001b[32m━━━━━━━━━━━━━━━━━━━━\u001b[0m\u001b[37m\u001b[0m \u001b[1m0s\u001b[0m 33ms/step\n",
            "\n",
            "Final Training Loss: 23.0401\n",
            "Final Validation Loss: 38.5231\n",
            "Test Loss: 75.1593\n"
          ]
        }
      ]
    },
    {
      "cell_type": "code",
      "source": [
        "plt.plot(history.history[\"loss\"], label=\"Training Loss\")\n",
        "plt.plot(history.history[\"val_loss\"], label=\"Validation Loss\")\n",
        "plt.xlabel(\"Epoch\")\n",
        "plt.ylabel(\"MSE Loss\")\n",
        "plt.title(\"Training vs Validation Loss\")\n",
        "plt.legend()\n",
        "plt.grid(True)\n",
        "plt.show()"
      ],
      "metadata": {
        "colab": {
          "base_uri": "https://localhost:8080/",
          "height": 481
        },
        "id": "l_SDaFeA4isC",
        "outputId": "6680718f-c191-4398-b499-873e6f6d6cc3"
      },
      "execution_count": 5,
      "outputs": [
        {
          "output_type": "display_data",
          "data": {
            "text/plain": [
              "<Figure size 640x480 with 1 Axes>"
            ],
            "image/png": "[encoded data removed]"
          },
          "metadata": {}
        }
      ]
    },
    {
      "cell_type": "markdown",
      "source": [
        "## Custom Training Loops"
      ],
      "metadata": {
        "id": "qvpELzJX4lnh"
      }
    },
    {
      "cell_type": "code",
      "source": [
        "import tensorflow as tf\n",
        "from tensorflow import keras\n",
        "import numpy as np\n",
        "import matplotlib.pyplot as plt\n",
        "from sklearn.datasets import make_regression\n",
        "from sklearn.model_selection import train_test_split\n",
        "from sklearn.preprocessing import StandardScaler\n",
        "\n",
        "# Dataset dummy regresi\n",
        "X, y = make_regression(n_samples=1000, n_features=4, noise=0.1)\n",
        "X_train, X_temp, y_train, y_temp = train_test_split(X, y, test_size=0.3, random_state=42)\n",
        "X_valid, X_test, y_valid, y_test = train_test_split(X_temp, y_temp, test_size=0.5)\n",
        "scaler = StandardScaler()\n",
        "X_train_scaled = scaler.fit_transform(X_train)\n",
        "X_valid_scaled = scaler.transform(X_valid)\n",
        "X_test_scaled = scaler.transform(X_test)\n",
        "\n",
        "# Model sederhana dengan L2 regularization\n",
        "keras.backend.clear_session()\n",
        "np.random.seed(42)\n",
        "tf.random.set_seed(42)\n",
        "\n",
        "l2_reg = keras.regularizers.l2(0.05)\n",
        "model = keras.models.Sequential([\n",
        "    keras.layers.Input(shape=(X.shape[1],)),\n",
        "    keras.layers.Dense(30, activation=\"elu\", kernel_initializer=\"he_normal\", kernel_regularizer=l2_reg),\n",
        "    keras.layers.Dense(1, kernel_regularizer=l2_reg)\n",
        "])\n",
        "\n",
        "# Hyperparameters dan setup\n",
        "n_epochs = 20\n",
        "batch_size = 32\n",
        "n_steps = len(X_train_scaled) // batch_size\n",
        "optimizer = keras.optimizers.Nadam(learning_rate=0.01)\n",
        "loss_fn = keras.losses.MeanSquaredError()\n",
        "\n",
        "# Progress bar + logging\n",
        "from tqdm.notebook import trange\n",
        "from collections import OrderedDict\n",
        "\n",
        "train_loss_log, train_mae_log = [], []\n",
        "\n",
        "for epoch in trange(1, n_epochs + 1, desc=\"All Epochs\"):\n",
        "    mean_loss = keras.metrics.Mean()\n",
        "    mean_mae = keras.metrics.MeanAbsoluteError()\n",
        "\n",
        "    for step in trange(1, n_steps + 1, desc=f\"Epoch {epoch}/{n_epochs}\", leave=False):\n",
        "        idx = np.random.randint(len(X_train_scaled), size=batch_size)\n",
        "        X_batch, y_batch = X_train_scaled[idx], y_train[idx]\n",
        "\n",
        "        with tf.GradientTape() as tape:\n",
        "            y_pred = model(X_batch, training=True)\n",
        "            main_loss = tf.reduce_mean(loss_fn(y_batch, y_pred))\n",
        "            loss = tf.add_n([main_loss] + model.losses)\n",
        "\n",
        "        grads = tape.gradient(loss, model.trainable_variables)\n",
        "        optimizer.apply_gradients(zip(grads, model.trainable_variables))\n",
        "\n",
        "        mean_loss.update_state(loss)\n",
        "        mean_mae.update_state(y_batch, y_pred)\n",
        "\n",
        "    # Logging per epoch\n",
        "    train_loss_log.append(mean_loss.result().numpy())\n",
        "    train_mae_log.append(mean_mae.result().numpy())\n",
        "\n",
        "# Kompilasi model agar bisa dievaluasi dengan evaluate()\n",
        "model.compile(loss=keras.losses.MeanSquaredError(),\n",
        "              metrics=[keras.metrics.MeanAbsoluteError()])\n",
        "\n",
        "# Evaluasi pada validation dan test set\n",
        "val_loss, val_mae = model.evaluate(X_valid_scaled, y_valid, verbose=0)\n",
        "test_loss, test_mae = model.evaluate(X_test_scaled, y_test, verbose=0)\n",
        "\n",
        "# Hasil evaluasi\n",
        "print(\"\\n--- Evaluation ---\")\n",
        "print(f\"Final Training Loss (MSE): {train_loss_log[-1]:.4f}\")\n",
        "print(f\"Final Training MAE: {train_mae_log[-1]:.4f}\")\n",
        "print(f\"Validation Loss (MSE): {val_loss:.4f}\")\n",
        "print(f\"Test Loss (MSE): {test_loss:.4f}\")"
      ],
      "metadata": {
        "colab": {
          "base_uri": "https://localhost:8080/",
          "height": 153,
          "referenced_widgets": [
            "aa728e2e9dba443385610c15ff6c157b",
            "45404b000abb402abd33aec02dce21b7",
            "fde8c29737904115bde58d7428284ebd",
            "3a8451bd79914cdea2d17675d1d74d8c",
            "0d1dda9bfc094a798790cbf40fb11660",
            "a602911a529f42e8b29aa7acabaefbd1",
            "e2964b1ed4bb405ba783b690675c535e",
            "67533028d61a4d0f83f7a367225693b3",
            "7482cbfd3edd45c889e8d9e2eec661a8",
            "ff0f1c7c983d44b0bb7c5985e84c22d0",
            "30ef0c81f5f94e618c6c9614e9760f46",
            "6e8715933915475cbc70492982122bb2",
            "f9bf3e78a55640c6a09bff7793bb9161",
            "0e92d73150ce42189a76e9f634396eaf",
            "8b6c86f60ef84fb4b615f77e02315612",
            "22f2dc25356f4abc94e01d64d78e007e",
            "e4af11b176b74db3a25c55682c0630e6",
            "aba17c11e4cc442c8fef813cf8752204",
            "b432cb8b37b34eac87c35d5a7d4aa3d0",
            "1ccb7c81657e414083c5ec400406fb6d",
            "5044b8f24afc4d3587d96071cc368ec8",
            "09b054d450534afeb3a79943ba509ed1",
            "0b2a03c6b0a7425bb6d0ff24116f70ad",
            "788c887b75eb436798a2e574a637fe6f",
            "0aab614dd7c543ac9a5c79ef04c61b50",
            "e07919f308714c2eb33544e22c24519d",
            "374ea6348ff0491f80f099767e0a88bb",
            "01f560798da94af28a9bcefcdd0d31d1",
            "9ee0b7f3b5994cc8a6e9b32988cb6545",
            "0cc12ae764c549c9b37d34d76c82b2b5",
            "261e81dfa5094979929e027be474fa65",
            "b1c2ee042f774943ad4ca1609a0d6e35",
            "989d03faa90d4cfda21fb6e83c6af4e2",
            "9a07712fa4004675b3b26d2c869e9ea8",
            "4ac4ecfe25524dae8eea9a5eec6cdfcb",
            "e72e9f8764804857944367bd9c53865c",
            "28b40233b7ed450b92acb83b48d307f4",
            "d349af2586d947db9737bf209f243894",
            "02c921407d9344a085fb7d7028a87cf3",
            "738566f2e87a449584f9aa4f81255c72",
            "3bda32ce825a41bfb582c29d1a85eddb",
            "1dde412fcfd341b18b2aa9da705b5d06",
            "49dc7669fd8246ca9254110a777316f5",
            "4c6fd475bb6848db8a3471c423bcd35c",
            "f21221a54cf848578c8784508e3c47e5",
            "24ad0365ac1d46019924eee30cd62a71",
            "0c67b98921534db5a85c0eade0754d67",
            "c6cd649fbb2f4b03880fcce54f5e67ad",
            "1dc0cd7b30bf4dfba3582b5e062a53c5",
            "6dec622ce46e427a936be022b0c8db7c",
            "c4d0347c0dbe448e97686216df5901c1",
            "1c6a1b7660824c5d95240a7bc1087918",
            "a0b9a28839af4b7e8d51cfaf3197a86d",
            "7df927c6e9984313a1d24b923fcabfd5",
            "3910d6eeac2741bf8b2c8888cded9318",
            "c0a9fef0254e49f8b751d34d557e9d92",
            "7c884fed1a22428195a5d528eeb003dc",
            "bc838071596248518431e5c44223b5b8",
            "3e7a11b0e9ee43e9bf6d964288b3bfd3",
            "b2cddccfb55841faa5b3ae25ac0e88a6",
            "1e35379d264b456b8df312e0119a7705",
            "54bca77494ea442db087afdf3ed84294",
            "8b81a94d7b9744a6a7b229e9dc7b5b98",
            "b0f1d6b404934853868c016786562545",
            "59b59169dbf64b59872fc56d7d1bc859",
            "c286bb98a52449b3b92a8d690157c206",
            "06dc13ea82f844e3aa8cafe88e9416e6",
            "dd4f3ecd09564027a594c41805a045c5",
            "a6152c9c2d8f4e339f59896a32ec9aaf",
            "9bcad1ba5b9744e39db41d9644917da6",
            "2520b303e0b7420497458f7e54a8760d",
            "48894d5a27fc4d48bca6b6a031c72d7e",
            "f419579e9d3e401da04f3acbffda25af",
            "271db27205d54f59b3107fd12f5f2aba",
            "db054890ed594ce2ae3282852a8bf2bf",
            "dab7cc2a21b84e8584c83b651241834e",
            "57324f1b59aa44a5a9d7c40700fbd132",
            "4959cee315db43b6b55ef640739f8152",
            "d585d88253474973973d56d6966d319f",
            "0b43c2cb2fe249b6be0163c49fda910c",
            "1f09033a20b24812aed65c1b80b5667f",
            "aa7418892aef42339d1fd6e6b9903c99",
            "005fd6ead7b348a28e36ea486cd9dc45",
            "41ec4fdf2f9c44e3bfe85e974d94f5d8",
            "bc3e36dedab64f1c84c07e8be5f46373",
            "5c8fdec463924095a57efb0ac2653677",
            "a38bb26cfdde4240bab6a535906375da",
            "60f54eb14cbc463daea49bc5c090678c",
            "40bc4263ee584025b6d4cf48e3af3ee0",
            "853ecbb0a262446ca66cae761213a017",
            "6a9963db00674bb68d018be1f807b7af",
            "b5a450059e4d4d92a017984d6fcc5f4d",
            "ecafa4a36cbc4bedb8cc74bb6a70e21b",
            "0eb6c5ddcd2a4bfaa99fc4e0bb852a5c",
            "8b388e1b7a5f41fbb1c8c9adf7512ab7",
            "085d951e9dc54075a4b678bc22577642",
            "bd3e1bb1a40742a18cc12e6e099a299d",
            "5e47b8f51f464bb49d634163cfcf0f7b",
            "0049feeddc3443df93c7ff569b882011",
            "b5304abd08f94bcd8972fb1ef082bbf0",
            "02cfb50a1cf84bce87fb8b88d8c7f5f3",
            "149c3ff75371443f9f4c04c55e92609b",
            "0b5f19e384994789abe80493b70275ad",
            "b5b458d04e914e0a88d115a85d410fc8",
            "ef940759630c4895ac70a7dff26d8ef6",
            "243cbff65e944f45ae5c636cb25cbd44",
            "8f2c6ca8aeea409facfeea4e0ede91c1",
            "19c44be90a374fa79b3394d193b9906a",
            "e60f4c83b28f43e5bba89fbdef11dca4",
            "81f26f6ce4b047e5b22ad04e49a183e1",
            "4c817f0b53fd4dfda383bef5074177db",
            "ab5c1e6303cb4465ae2b0a34dad2441a",
            "249ef94695ea4fd5a741e99bc42e991d",
            "dcc11516be9b4c84994697ddee893cfd",
            "b029b3013b7141ad8d40ca03b13fdf0f",
            "26257c53a1fd415aa4c8cd7861cea1a6",
            "64a622c6f380498a941a0287db838052",
            "033d50efbda24dbf8e5bd4374eebd85c",
            "cc4f073d0e464f53a57adc4778688aa6",
            "cf12ef0b26e44b15882723aeebf6d315",
            "7e848baff5ae4c04a1f545d3d95c4cc1",
            "95cc31fdd6ee43c79a2ebabd81c11079",
            "2d37fb67d74346d6b99c29acf5d30244",
            "a8c16a3e483548a09bdeb450975afe71",
            "9f76b4c9974e485482fd7e4787528b99",
            "4d8eef6ddcb24523bc3548186027960e",
            "5b78c7f375044bfc81f80aaee07d37d5",
            "b840ae1e65fe46da8bc4ec339433f747",
            "81814f1a1b0d4b6ca66a61b470544c21",
            "f629c379b8e246109c86a43a9a2dd432",
            "51e18f27b4114087af7e99592cd6e777",
            "55269294f8324995bdbe26f2b2e0aec1",
            "5cb8547db50441bf8174ef9373890456",
            "f7f4e0a5ef9346368ef16d406756bf4b",
            "f44714cec1eb40a9ac39508459ee22ac",
            "4d3b3d940f814b0899a5bf379706d0c0",
            "e096e9ecf5d14cf8b94a2c70b06b57c2",
            "abb97b5ac1fa4b958c0e38d33c13ca37",
            "9045ae0efa434b0999f8f9210f02ba35",
            "1d6d3c0edd154e4ebbca6fe625285069",
            "e4f31475a07d496582f6962ae4d773db",
            "02478f5053134e9888cae5d295b73e3e",
            "46a0174f779b47149e58d85e25734789",
            "79d01c8cc1454c479166b03f4d773d38",
            "ec9e7e771a1a445990bc412e0969804c",
            "fe3897ccb3dd4d989767844aaba20d7e",
            "25833cc3fa584b0b8c43be535536ad66",
            "5709f339e82342a8bb1e1fec33325442",
            "d2c7601773dc483eb030c45120ff9cf8",
            "ad3e2013da4146228ad130b581fbf74f",
            "fc163cfc14f642ba9caa7f871f37d581",
            "73c4db5d656a45a0b54026ea68524343",
            "f524ea3ffcdd4b0d9c9dbdfcf31ab8ec",
            "69c11947a4054538bc0755b4db0dae75",
            "cb8f752e8bcf464386fc98fa71eecb70",
            "f65f6ef16db44640bf0a12bc1869b6f4",
            "76bd9b96a5c44a47874ab0a52910a121",
            "2d34c21ddb4241b58238b39cd3fa4301",
            "70687a5b0fca4bcaab7532c1021996be",
            "8cddfed80ee64897afa5641a62701545",
            "cd8a967f096d45fdbce414174d542d3a",
            "48bf00c9c4614f8cb1a36e3389fb76ab",
            "b3ddf8325d6f4413a18afbf882b5c121",
            "e82af2ddc74d4b43bc8b389cae1b6499",
            "fe8860ce22de47b7bca7a80a799ae2f5",
            "a0a4690c827e47b7b904efca8b989a1b",
            "a08463654eb5463082ac8a46cb35deb7",
            "d5c1f5e5c6ac4cd9a986892f85a78338",
            "1408faa4fddc4c079012a9f70f284890",
            "540a80ad131f463da3ec28d4c0bf288f",
            "d6d4250e39d24a599e52d6f31f36824a",
            "2bb9ff47e46340ce976a13ec7da443ac",
            "6cbc93fb84ba41fbbe023419025592cb",
            "31c59b02977f4ea0a4d050633b0ae43d",
            "394e07022a464a2c9086e1612a8742a1",
            "5454751cd25d4f86bf927bc71ccf8f73",
            "775d97c387344f51bcaa8e96ff97f27f",
            "c642b4bcf353402bb708365fcb77b9fc",
            "b2bdf261262247d495b2e4455c9a0a1d",
            "359e5a3144684c6283a9a85a7df942af",
            "a7a4f8d752b34aaf93b906ce8b3e95ae",
            "fa0a760b79eb4039ac160f3cf9f6d963",
            "ac312d3a21814af8a3b714988c532bb4",
            "1158b8b310984e2e9814f50e14cc57a9",
            "bf124ea26dce48a6961aab3adf98bede",
            "f16110925e634cef891caaf7a520dfab",
            "29dc6cbfb7674dc5bd1c09d912ef8dbb",
            "8f138fead4404b06b4107439d55cfbe2",
            "6ecfff94c5ef4b8bb56432ee03f7da47",
            "d28852f3cb0e48fbac97e71117f3f847",
            "7de6c606d6ed4eee8aa885ceb8be2777",
            "441f65aa1d4741149ee28641431f4476",
            "c570257599d74e77b129d0032d867c69",
            "d0268ae973b1414e956d089613164705",
            "1b630438274141079dc7956e63c5383e",
            "fd60fd7c5d214dffa0a6c3e5137a0f3e",
            "863681c2e0cb4143aef143aa32b3ba59",
            "57319f8a062248b0b93fc225e93fe87d",
            "cabca0bd111347c2ba713cd5043dfaa9",
            "c71c350a3f1f45ab87f95a2515977d65",
            "83d276e4537c4e84b7418648a9f9ba3d",
            "3c2f69243bb1435aa15679ef92298b43",
            "ee11fa36e275448d87890c913cc441d9",
            "9dd0e2765058487d8203a1d3315a85b6",
            "39ddab51dc74462d95cbc990e0156265",
            "37067eb087e047f8853997ba0a2b199f",
            "c842683b6c094ff49f569f5da81dd75a",
            "e938fb6c7e614fd4acff4678aff8b64f",
            "2e9f839507b945e2b6a908c84d4da0f0",
            "868cd603009146ebb17ad6ee81572557",
            "c6b404ad51a34b0da000dde0bfb5813f",
            "72883d9bd66b46788332754f10f09dc1",
            "4e9109c0577f4210a75ac8f83ff0620a",
            "d8be8281b5c64685b0d82bc93106193e",
            "557336e3033742738b9eacb6ff096543",
            "6a1aae923f7f4a49a38cd81eef7d2d60",
            "9771625e3b6d4866bc91144f9437e3e8",
            "a4f5404e67c24044b68358706af45f4f",
            "6ba14bc8b2e7422383eaaba6d370d711",
            "79de66b9656d4172a01581fc76be19d2",
            "1f2ead888b954622b4820c427225bf3e",
            "5d6f09db0f6c4b6b9d52735e74ae473b",
            "eae81a8ef98b4fada2d298c7af2d83d4",
            "12ea74989bd6481fb3f6d7f7895a362a",
            "9e1e7efd42cc4f1ab80664c9bdc71921",
            "7d70d45b58ee45ba8fcea7994093e08d",
            "5396d9aaba0b42d18c9be2ce927f81f8",
            "5969b709bf8f42a89fa452578bc65c7f",
            "4565dd02221f49f981e30bf30e2cc0bd",
            "ab1d48363fad434abee3ee7a8cbb7bad",
            "324af6699d9842f9a48be8ec8a120cdb"
          ]
        },
        "id": "sfXva7yB4meQ",
        "outputId": "c68eb605-8ac6-47e1-9578-fce9a11b0391"
      },
      "execution_count": 6,
      "outputs": [
        {
          "output_type": "display_data",
          "data": {
            "text/plain": [
              "All Epochs:   0%|          | 0/20 [00:00<?, ?it/s]"
            ],
            "application/vnd.jupyter.widget-view+json": {
              "version_major": 2,
              "version_minor": 0,
              "model_id": "aa728e2e9dba443385610c15ff6c157b"
            }
          },
          "metadata": {}
        },
        {
          "output_type": "display_data",
          "data": {
            "text/plain": [
              "Epoch 1/20:   0%|          | 0/21 [00:00<?, ?it/s]"
            ],
            "application/vnd.jupyter.widget-view+json": {
              "version_major": 2,
              "version_minor": 0,
              "model_id": "6e8715933915475cbc70492982122bb2"
            }
          },
          "metadata": {}
        },
        {
          "output_type": "display_data",
          "data": {
            "text/plain": [
              "Epoch 2/20:   0%|          | 0/21 [00:00<?, ?it/s]"
            ],
            "application/vnd.jupyter.widget-view+json": {
              "version_major": 2,
              "version_minor": 0,
              "model_id": "0b2a03c6b0a7425bb6d0ff24116f70ad"
            }
          },
          "metadata": {}
        },
        {
          "output_type": "display_data",
          "data": {
            "text/plain": [
              "Epoch 3/20:   0%|          | 0/21 [00:00<?, ?it/s]"
            ],
            "application/vnd.jupyter.widget-view+json": {
              "version_major": 2,
              "version_minor": 0,
              "model_id": "9a07712fa4004675b3b26d2c869e9ea8"
            }
          },
          "metadata": {}
        },
        {
          "output_type": "display_data",
          "data": {
            "text/plain": [
              "Epoch 4/20:   0%|          | 0/21 [00:00<?, ?it/s]"
            ],
            "application/vnd.jupyter.widget-view+json": {
              "version_major": 2,
              "version_minor": 0,
              "model_id": "f21221a54cf848578c8784508e3c47e5"
            }
          },
          "metadata": {}
        },
        {
          "output_type": "display_data",
          "data": {
            "text/plain": [
              "Epoch 5/20:   0%|          | 0/21 [00:00<?, ?it/s]"
            ],
            "application/vnd.jupyter.widget-view+json": {
              "version_major": 2,
              "version_minor": 0,
              "model_id": "c0a9fef0254e49f8b751d34d557e9d92"
            }
          },
          "metadata": {}
        },
        {
          "output_type": "display_data",
          "data": {
            "text/plain": [
              "Epoch 6/20:   0%|          | 0/21 [00:00<?, ?it/s]"
            ],
            "application/vnd.jupyter.widget-view+json": {
              "version_major": 2,
              "version_minor": 0,
              "model_id": "06dc13ea82f844e3aa8cafe88e9416e6"
            }
          },
          "metadata": {}
        },
        {
          "output_type": "display_data",
          "data": {
            "text/plain": [
              "Epoch 7/20:   0%|          | 0/21 [00:00<?, ?it/s]"
            ],
            "application/vnd.jupyter.widget-view+json": {
              "version_major": 2,
              "version_minor": 0,
              "model_id": "4959cee315db43b6b55ef640739f8152"
            }
          },
          "metadata": {}
        },
        {
          "output_type": "display_data",
          "data": {
            "text/plain": [
              "Epoch 8/20:   0%|          | 0/21 [00:00<?, ?it/s]"
            ],
            "application/vnd.jupyter.widget-view+json": {
              "version_major": 2,
              "version_minor": 0,
              "model_id": "40bc4263ee584025b6d4cf48e3af3ee0"
            }
          },
          "metadata": {}
        },
        {
          "output_type": "display_data",
          "data": {
            "text/plain": [
              "Epoch 9/20:   0%|          | 0/21 [00:00<?, ?it/s]"
            ],
            "application/vnd.jupyter.widget-view+json": {
              "version_major": 2,
              "version_minor": 0,
              "model_id": "b5304abd08f94bcd8972fb1ef082bbf0"
            }
          },
          "metadata": {}
        },
        {
          "output_type": "display_data",
          "data": {
            "text/plain": [
              "Epoch 10/20:   0%|          | 0/21 [00:00<?, ?it/s]"
            ],
            "application/vnd.jupyter.widget-view+json": {
              "version_major": 2,
              "version_minor": 0,
              "model_id": "4c817f0b53fd4dfda383bef5074177db"
            }
          },
          "metadata": {}
        },
        {
          "output_type": "display_data",
          "data": {
            "text/plain": [
              "Epoch 11/20:   0%|          | 0/21 [00:00<?, ?it/s]"
            ],
            "application/vnd.jupyter.widget-view+json": {
              "version_major": 2,
              "version_minor": 0,
              "model_id": "95cc31fdd6ee43c79a2ebabd81c11079"
            }
          },
          "metadata": {}
        },
        {
          "output_type": "display_data",
          "data": {
            "text/plain": [
              "Epoch 12/20:   0%|          | 0/21 [00:00<?, ?it/s]"
            ],
            "application/vnd.jupyter.widget-view+json": {
              "version_major": 2,
              "version_minor": 0,
              "model_id": "5cb8547db50441bf8174ef9373890456"
            }
          },
          "metadata": {}
        },
        {
          "output_type": "display_data",
          "data": {
            "text/plain": [
              "Epoch 13/20:   0%|          | 0/21 [00:00<?, ?it/s]"
            ],
            "application/vnd.jupyter.widget-view+json": {
              "version_major": 2,
              "version_minor": 0,
              "model_id": "79d01c8cc1454c479166b03f4d773d38"
            }
          },
          "metadata": {}
        },
        {
          "output_type": "display_data",
          "data": {
            "text/plain": [
              "Epoch 14/20:   0%|          | 0/21 [00:00<?, ?it/s]"
            ],
            "application/vnd.jupyter.widget-view+json": {
              "version_major": 2,
              "version_minor": 0,
              "model_id": "cb8f752e8bcf464386fc98fa71eecb70"
            }
          },
          "metadata": {}
        },
        {
          "output_type": "display_data",
          "data": {
            "text/plain": [
              "Epoch 15/20:   0%|          | 0/21 [00:00<?, ?it/s]"
            ],
            "application/vnd.jupyter.widget-view+json": {
              "version_major": 2,
              "version_minor": 0,
              "model_id": "a0a4690c827e47b7b904efca8b989a1b"
            }
          },
          "metadata": {}
        },
        {
          "output_type": "display_data",
          "data": {
            "text/plain": [
              "Epoch 16/20:   0%|          | 0/21 [00:00<?, ?it/s]"
            ],
            "application/vnd.jupyter.widget-view+json": {
              "version_major": 2,
              "version_minor": 0,
              "model_id": "775d97c387344f51bcaa8e96ff97f27f"
            }
          },
          "metadata": {}
        },
        {
          "output_type": "display_data",
          "data": {
            "text/plain": [
              "Epoch 17/20:   0%|          | 0/21 [00:00<?, ?it/s]"
            ],
            "application/vnd.jupyter.widget-view+json": {
              "version_major": 2,
              "version_minor": 0,
              "model_id": "8f138fead4404b06b4107439d55cfbe2"
            }
          },
          "metadata": {}
        },
        {
          "output_type": "display_data",
          "data": {
            "text/plain": [
              "Epoch 18/20:   0%|          | 0/21 [00:00<?, ?it/s]"
            ],
            "application/vnd.jupyter.widget-view+json": {
              "version_major": 2,
              "version_minor": 0,
              "model_id": "cabca0bd111347c2ba713cd5043dfaa9"
            }
          },
          "metadata": {}
        },
        {
          "output_type": "display_data",
          "data": {
            "text/plain": [
              "Epoch 19/20:   0%|          | 0/21 [00:00<?, ?it/s]"
            ],
            "application/vnd.jupyter.widget-view+json": {
              "version_major": 2,
              "version_minor": 0,
              "model_id": "868cd603009146ebb17ad6ee81572557"
            }
          },
          "metadata": {}
        },
        {
          "output_type": "display_data",
          "data": {
            "text/plain": [
              "Epoch 20/20:   0%|          | 0/21 [00:00<?, ?it/s]"
            ],
            "application/vnd.jupyter.widget-view+json": {
              "version_major": 2,
              "version_minor": 0,
              "model_id": "1f2ead888b954622b4820c427225bf3e"
            }
          },
          "metadata": {}
        },
        {
          "output_type": "stream",
          "name": "stdout",
          "text": [
            "\n",
            "--- Evaluation ---\n",
            "Final Training Loss (MSE): 168.8867\n",
            "Final Training MAE: 9.3364\n",
            "Validation Loss (MSE): 158.7001\n",
            "Test Loss (MSE): 150.3506\n"
          ]
        }
      ]
    },
    {
      "cell_type": "code",
      "source": [
        "epochs = range(1, n_epochs + 1)\n",
        "\n",
        "plt.figure(figsize=(12, 4))\n",
        "\n",
        "# Plot Loss\n",
        "plt.subplot(1, 2, 1)\n",
        "plt.plot(epochs, train_loss_log, label=\"Train Loss (MSE)\")\n",
        "plt.title(\"Training Loss per Epoch\")\n",
        "plt.xlabel(\"Epoch\")\n",
        "plt.ylabel(\"Loss\")\n",
        "plt.grid(True)\n",
        "plt.legend()\n",
        "\n",
        "# Plot MAE\n",
        "plt.subplot(1, 2, 2)\n",
        "plt.plot(epochs, train_mae_log, label=\"Train MAE\", color='orange')\n",
        "plt.title(\"Training MAE per Epoch\")\n",
        "plt.xlabel(\"Epoch\")\n",
        "plt.ylabel(\"MAE\")\n",
        "plt.grid(True)\n",
        "plt.legend()\n",
        "\n",
        "plt.tight_layout()\n",
        "plt.show()"
      ],
      "metadata": {
        "colab": {
          "base_uri": "https://localhost:8080/",
          "height": 407
        },
        "id": "Haoimzla4ocw",
        "outputId": "32c490b8-e01f-4e64-cc9b-fdf7a39024aa"
      },
      "execution_count": 7,
      "outputs": [
        {
          "output_type": "display_data",
          "data": {
            "text/plain": [
              "<Figure size 1200x400 with 2 Axes>"
            ],
            "image/png": "[encoded data removed]"
          },
          "metadata": {}
        }
      ]
    },
    {
      "cell_type": "markdown",
      "source": [
        "# **Proses Manual Training Loop dengan Keras**"
      ],
      "metadata": {
        "id": "7qc7guMd4rjh"
      }
    },
    {
      "cell_type": "markdown",
      "source": [
        "## Tahapan Utama\n",
        "### 1. Dataset dan Pra-pemrosesan\n",
        "* Data dibuat menggunakan fungsi make_regression() dari scikit-learn.\n",
        "\n",
        "* Dataset dibagi menjadi tiga bagian: training, validasi, dan test set.\n",
        "\n",
        "* Fitur-fitur distandarisasi menggunakan StandardScaler untuk memastikan skala yang seragam.\n",
        "\n",
        "### 2. Arsitektur Model\n",
        "* Model disusun menggunakan Sequential API, terdiri dari dua lapisan Dense.\n",
        "\n",
        "* Lapisan pertama menggunakan fungsi aktivasi ELU dan inisialisasi bobot he_normal.\n",
        "\n",
        "* Regularisasi L2 (l2(0.05)) diterapkan untuk mencegah overfitting.\n",
        "\n",
        "* Model tidak langsung dikompilasi, karena proses pelatihan akan dilakukan secara manual.\n",
        "\n",
        "### 3. Loop Pelatihan Manual (Custom Training Loop)\n",
        "* Proses pelatihan dikontrol menggunakan for loop, baik pada level batch maupun epoch.\n",
        "\n",
        "* Fungsi tf.GradientTape() digunakan untuk menghitung dan menerapkan gradien secara eksplisit.\n",
        "\n",
        "* Metrik tf.keras.metrics.Mean() dan MeanAbsoluteError() digunakan untuk memantau performa selama pelatihan.\n",
        "\n",
        "* Library tqdm digunakan untuk menampilkan progress bar yang interaktif.\n",
        "\n",
        "### 4. Evaluasi Model\n",
        "* Setelah proses pelatihan selesai, model dikompilasi ulang untuk proses evaluasi menggunakan fungsi loss dan metrik standar.\n",
        "\n",
        "* Evaluasi dilakukan terhadap validation set dan test set untuk mengukur kemampuan generalisasi.\n",
        "\n",
        "### 5. Visualisasi\n",
        "* Learning curve divisualisasikan dengan plot nilai Loss (MSE) dan MAE per epoch.\n",
        "\n",
        "* Grafik ini membantu dalam memantau stabilitas dan konvergensi model selama pelatihan."
      ],
      "metadata": {
        "id": "mwBQT0BM4s9S"
      }
    },
    {
      "cell_type": "markdown",
      "source": [
        "# **Kesimpulan**\n",
        "* Model berhasil dilatih dengan pendekatan training loop manual dan menunjukkan performa yang konsisten.\n",
        "\n",
        "* Nilai Training Loss (MSE) dan MAE menurun secara bertahap seiring bertambahnya jumlah epoch, menunjukkan proses pelatihan berjalan efektif.\n",
        "\n",
        "* Hasil evaluasi pada validation set dan test set menunjukkan bahwa model tidak mengalami overfitting dan mampu melakukan generalisasi dengan baik.\n",
        "\n",
        "* Pendekatan ini memberikan fleksibilitas tinggi, sangat berguna untuk eksperimen lanjutan seperti penerapan regularisasi khusus, pengaturan learning rate scheduler, atau teknik optimisasi kustom lainnya."
      ],
      "metadata": {
        "id": "DetDpei_6gnw"
      }
    }
  ]
}

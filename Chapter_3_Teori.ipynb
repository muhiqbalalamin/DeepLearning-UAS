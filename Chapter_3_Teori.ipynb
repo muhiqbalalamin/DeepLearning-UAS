{
  "nbformat": 4,
  "nbformat_minor": 0,
  "metadata": {
    "colab": {
      "provenance": [],
      "authorship_tag": "ABX9TyOqyRh6iuc7g3Idp9uwR97u",
      "include_colab_link": true
    },
    "kernelspec": {
      "name": "python3",
      "display_name": "Python 3"
    },
    "language_info": {
      "name": "python"
    }
  },
  "cells": [
    {
      "cell_type": "markdown",
      "metadata": {
        "id": "view-in-github",
        "colab_type": "text"
      },
      "source": [
        "<a href=\"https://colab.research.google.com/github/muhiqbalalamin/DeepLearning-UAS/blob/main/Chapter_3_Teori.ipynb\" target=\"_parent\"><img src=\"https://colab.research.google.com/assets/colab-badge.svg\" alt=\"Open In Colab\"/></a>"
      ]
    },
    {
      "cell_type": "markdown",
      "source": [
        "# **Classification**"
      ],
      "metadata": {
        "id": "dda97pnlBQCp"
      }
    },
    {
      "cell_type": "markdown",
      "source": [
        "## Pengantar"
      ],
      "metadata": {
        "id": "ipQTPwIoBRhQ"
      }
    },
    {
      "cell_type": "markdown",
      "source": [
        "Dalam Machine Learning, klasifikasi adalah tugas untuk memprediksi label dari suatu instance. Berbeda dengan regresi yang memprediksi nilai kontinu, klasifikasi menghasilkan kategori diskret. Contoh klasiknya adalah memprediksi angka dari gambar tulisan tangan pada dataset MNIST."
      ],
      "metadata": {
        "id": "ak1laH-gB2CQ"
      }
    },
    {
      "cell_type": "markdown",
      "source": [
        "## Dataset MNIST"
      ],
      "metadata": {
        "id": "AFW8dKcxB8sg"
      }
    },
    {
      "cell_type": "markdown",
      "source": [
        "MNIST merupakan kumpulan gambar digit tulisan tangan dari 0 hingga 9, terdiri dari 70.000 gambar berukuran 28×28 piksel (total 784 fitur). Setiap gambar diberi label sesuai angka yang diwakilinya.\n",
        "\n",
        "* 60.000 data digunakan untuk pelatihan (training)\n",
        "\n",
        "* 10.000 data digunakan untuk pengujian (testing)\n",
        "\n",
        "Setiap fitur merepresentasikan intensitas piksel, dengan 0 berarti putih dan 255 berarti hitam."
      ],
      "metadata": {
        "id": "nNzozTH2B_eH"
      }
    },
    {
      "cell_type": "markdown",
      "source": [
        "## Pelatihan Klasifikasi Biner"
      ],
      "metadata": {
        "id": "Zx4Mn8zKCDFn"
      }
    },
    {
      "cell_type": "markdown",
      "source": [
        "Untuk memulai, masalah disederhanakan menjadi klasifikasi biner, misalnya mendeteksi apakah sebuah gambar menunjukkan angka 5 (klasifikasi: 5 vs bukan 5).\n",
        "\n",
        "Langkah-langkah yang dilakukan:\n",
        "\n",
        "* Label dikonversi menjadi boolean: True jika angka 5, False jika bukan.\n",
        "\n",
        "* Model seperti SGDClassifier digunakan karena efisien untuk dataset besar."
      ],
      "metadata": {
        "id": "Yg8ieqK0CFDX"
      }
    },
    {
      "cell_type": "markdown",
      "source": [
        "## Evaluasi Kinerja"
      ],
      "metadata": {
        "id": "MXm0cbijCPw5"
      }
    },
    {
      "cell_type": "markdown",
      "source": [
        "### 1. Akurasi\n",
        "Merupakan proporsi prediksi yang benar:\n",
        "\n",
        "\\[\n",
        "$\\text{Akurasi} = \\frac{\\text{Jumlah prediksi benar}}{\\text{Total prediksi}}$\n",
        "\\]\n",
        "\n",
        "Namun, akurasi kurang cocok digunakan untuk data yang tidak seimbang (imbalanced)."
      ],
      "metadata": {
        "id": "jK34FdW6CRRQ"
      }
    },
    {
      "cell_type": "markdown",
      "source": [
        "### 2. Confusion Matrix (Matriks Kebingungan)\n",
        "Matriks ini menampilkan jumlah prediksi yang benar dan salah untuk masing-masing kelas:\n",
        "\n",
        "|              | Prediksi Positif | Prediksi Negatif |\n",
        "|--------------|------------------|------------------|\n",
        "| **Positif**  | True Positive     | False Negative   |\n",
        "| **Negatif**  | False Positive    | True Negative    |"
      ],
      "metadata": {
        "id": "QSGrN2MRDLkg"
      }
    },
    {
      "cell_type": "markdown",
      "source": [
        "### 3. Precision dan Recall\n",
        "* Precision: Ketepatan dari prediksi positif\n",
        "\n",
        "\\[\n",
        "$\\text{Precision} = \\frac{\\text{TP}}{\\text{TP + FP}}$\n",
        "\\]\n",
        "\n",
        "* Recall: Kemampuan model dalam menangkap semua data positif\n",
        "\n",
        "\\[\n",
        "$\\text{Recall} = \\frac{\\text{TP}}{\\text{TP + FN}}$\n",
        "\\]\n",
        "\n",
        "* F1 Score: Rata-rata harmonik dari Precision dan Recall\n",
        "\n",
        "\\[\n",
        "$\\text{F1} = 2 \\times \\frac{\\text{Precision} \\times \\text{Recall}}{\\text{Precision} + \\text{Recall}}$\n",
        "\\]\n"
      ],
      "metadata": {
        "id": "wAUJwABEDjhw"
      }
    },
    {
      "cell_type": "markdown",
      "source": [
        "### 4. Kompromi Precision vs Recall\n",
        "Terdapat trade-off antara precision dan recall. Meningkatkan threshold prediksi dapat memperbesar precision namun menurunkan recall, dan sebaliknya."
      ],
      "metadata": {
        "id": "rZLNNUr3EAoA"
      }
    },
    {
      "cell_type": "markdown",
      "source": [
        "### 5. Kurva ROC (Receiver Operating Characteristic)\n",
        "* Menampilkan hubungan antara True Positive Rate (TPR) dan False Positive Rate (FPR).\n",
        "\n",
        "* Area di bawah kurva (AUC) digunakan sebagai metrik kinerja.\n",
        "\n",
        "\\[\n",
        "$\\text{TPR} = \\text{Recall} = \\frac{\\text{TP}}{\\text{TP + FN}}$\n",
        "\\]\n",
        "\\[\n",
        "$\\text{FPR} = \\frac{\\text{FP}}{\\text{FP + TN}}$\n",
        "\\]"
      ],
      "metadata": {
        "id": "ageBLB8RECpg"
      }
    },
    {
      "cell_type": "markdown",
      "source": [
        "Klasifikasi Multikelas\n",
        "Untuk klasifikasi lebih dari dua kelas (0–9), digunakan dua strategi umum:\n",
        "\n",
        "* One-vs-Rest (OvR): Melatih satu classifier untuk setiap kelas (total 10 classifier). Kelas dengan skor tertinggi dipilih.\n",
        "\n",
        "* One-vs-One (OvO): Melatih classifier untuk setiap pasangan kelas (total 45 classifier). Kelas dengan jumlah kemenangan terbanyak akan dipilih.\n",
        "\n",
        "Scikit-Learn secara otomatis menangani strategi ini."
      ],
      "metadata": {
        "id": "9pJqM8fVESfo"
      }
    },
    {
      "cell_type": "markdown",
      "source": [
        "### Analisis Kesalahan\n",
        "Langkah-langkah:\n",
        "\n",
        "1. Gunakan confusion matrix untuk mengevaluasi kesalahan.\n",
        "\n",
        "2. Visualisasikan matriks dalam bentuk gambar untuk mengenali pola.\n",
        "\n",
        "3. Fokus pada kesalahan yang paling sering terjadi (misalnya angka 3 sering diprediksi sebagai 5).\n",
        "\n",
        "4. Normalisasi matriks untuk melihat proporsi kesalahan dibanding jumlah total label aktual."
      ],
      "metadata": {
        "id": "rCAYMeglEf14"
      }
    },
    {
      "cell_type": "markdown",
      "source": [
        "### Klasifikasi Multilabel\n",
        "Satu instance dapat memiliki lebih dari satu label.\n",
        "\n",
        "Contoh:\n",
        "\n",
        "* Label 1: Apakah angka ≥ 7\n",
        "\n",
        "* Label 2: Apakah angka ganjil\n",
        "\n",
        "Evaluasi dilakukan menggunakan macro-average F1 score:\n",
        "\n",
        "\\[\n",
        "$\\text{F1}_{macro} = \\frac{1}{L} \\sum_{i=1}^{L} \\text{F1}_i$\n",
        "\\]\n",
        "\n",
        "dengan 𝐿 adalah jumlah label."
      ],
      "metadata": {
        "id": "QseIsTxxEmkT"
      }
    },
    {
      "cell_type": "markdown",
      "source": [
        "### Klasifikasi Multioutput\n",
        "Jenis klasifikasi multilabel di mana setiap label dapat memiliki lebih dari dua kelas.\n",
        "\n",
        "Contoh:\n",
        "\n",
        "* Input: gambar angka yang terkontaminasi noise\n",
        "\n",
        "* Output: gambar hasil denoise\n",
        "\n",
        "* Setiap piksel diperlakukan sebagai label dengan nilai antara 0–255\n",
        "\n",
        "Tergantung konteks, ini dapat dianggap sebagai klasifikasi atau regresi."
      ],
      "metadata": {
        "id": "z-UPckasFBPB"
      }
    },
    {
      "cell_type": "markdown",
      "source": [
        "## **Kesimpulan**\n",
        "* Klasifikasi memerlukan evaluasi yang lebih kompleks dibanding regresi.\n",
        "\n",
        "* Beberapa metrik penting yang digunakan adalah precision, recall, F1-score, ROC, dan AUC.\n",
        "\n",
        "* Klasifikasi multikelas, multilabel, dan multioutput memerlukan pendekatan yang berbeda.\n",
        "\n",
        "* Analisis kesalahan dan preprocessing data (misalnya perataan gambar) berperan penting dalam meningkatkan performa model."
      ],
      "metadata": {
        "id": "rd_WTPM1FIF4"
      }
    },
    {
      "cell_type": "markdown",
      "source": [
        "## **Referensi**"
      ],
      "metadata": {
        "id": "2MjNFzPHFT9w"
      }
    },
    {
      "cell_type": "markdown",
      "source": [
        "Géron, A. (2019). Hands-On Machine Learning with Scikit-Learn, Keras, and TensorFlow. O'Reilly Media."
      ],
      "metadata": {
        "id": "LC2CKylqFWRQ"
      }
    }
  ]
}
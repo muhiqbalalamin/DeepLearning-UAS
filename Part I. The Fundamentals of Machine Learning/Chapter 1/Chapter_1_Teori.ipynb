{
  "nbformat": 4,
  "nbformat_minor": 0,
  "metadata": {
    "colab": {
      "provenance": [],
      "authorship_tag": "ABX9TyPSCKAXWTQjc5/T/lxVck6j",
      "include_colab_link": true
    },
    "kernelspec": {
      "name": "python3",
      "display_name": "Python 3"
    },
    "language_info": {
      "name": "python"
    }
  },
  "cells": [
    {
      "cell_type": "markdown",
      "metadata": {
        "id": "view-in-github",
        "colab_type": "text"
      },
      "source": [
        "<a href=\"https://colab.research.google.com/github/muhiqbalalamin/DeepLearning-UAS/blob/main/Chapter_1_Teori.ipynb\" target=\"_parent\"><img src=\"https://colab.research.google.com/assets/colab-badge.svg\" alt=\"Open In Colab\"/></a>"
      ]
    },
    {
      "cell_type": "markdown",
      "source": [
        "# **The Machine Learning Landscape**"
      ],
      "metadata": {
        "id": "V_3hNIXFuih9"
      }
    },
    {
      "cell_type": "markdown",
      "source": [
        "Bab ini membahas pengertian dasar Pembelajaran Mesin (Machine Learning/ML), alasan pentingnya ML, serta mengelompokkan berbagai jenis sistem ML. Selain itu, dibahas juga tantangan utama dalam proyek ML dan cara mengevaluasi serta meningkatkan performa model ML."
      ],
      "metadata": {
        "id": "UtM6AGtqujW9"
      }
    },
    {
      "cell_type": "markdown",
      "source": [
        "## Apa Itu Machine Learning?"
      ],
      "metadata": {
        "id": "6Y62uE55ukMl"
      }
    },
    {
      "cell_type": "markdown",
      "source": [
        "Pembelajaran Mesin, atau Machine Learning, adalah bagian dari ilmu komputer yang mencoba membuat komputer bisa belajar dari contoh-contoh data, bukannya diprogram untuk setiap tugas satu per satu. Suatu sistem disebut sudah belajar kalau kualitas pekerjaannya pada tugas tertentu, yang diukur dengan metrik tertentu, menjadi semakin baik setiap kali ia mendapat lebih banyak pengalaman. Contoh sehari-harinya adalah filter spam di surel yang mampu memisahkan pesan beriklan dan pesan biasa berdasarkan data yang sudah pernah ia lihat."
      ],
      "metadata": {
        "id": "WUMaoK8eukiF"
      }
    },
    {
      "cell_type": "markdown",
      "source": [
        "## Mengapa Menggunakan Machine Learning?"
      ],
      "metadata": {
        "id": "SqMSBZB4uk19"
      }
    },
    {
      "cell_type": "markdown",
      "source": [
        "Pembelajaran Mesin bermanfaat dalam berbagai situasi, antara lain:\n",
        "*   Masalah dengan banyak aturan atau konfigurasi rumit: ML bisa menyederhanakan proses tersebut dan menghasilkan kinerja lebih baik dibandingkan pendekatan tradisional.\n",
        "*   Masalah kompleks yang tidak memiliki solusi algoritmik yang jelas: ML bisa menemukan pola atau solusi yang tersembunyi dalam data.\n",
        "*   Kondisi yang selalu berubah: Sistem ML dapat menyesuaikan diri dengan data baru secara otomatis.\n",
        "\n",
        "*   Menemukan pola dalam data besar dan kompleks: Sering kali disebut sebagai data mining."
      ],
      "metadata": {
        "id": "hvVIrTdlxUF-"
      }
    },
    {
      "cell_type": "markdown",
      "source": [
        "## Jenis-Jenis Sistem Machine Learning"
      ],
      "metadata": {
        "id": "eOA-AL6jxU5m"
      }
    },
    {
      "cell_type": "markdown",
      "source": [
        "Sistem ML dapat dibedakan berdasarkan beberapa pendekatan:"
      ],
      "metadata": {
        "id": "lXXy-jvLyVGu"
      }
    },
    {
      "cell_type": "markdown",
      "source": [
        "### 1. Berdasarkan Peran Manusia"
      ],
      "metadata": {
        "id": "I1YR9C_jxgdl"
      }
    },
    {
      "cell_type": "markdown",
      "source": [
        "*   Pembelajaran Terawasi (Supervised Learning): Data pelatihan disertai dengan label (jawaban). Contoh: klasifikasi (filter spam) dan regresi (prediksi harga).\n",
        "*   Pembelajaran Tak Terawasi (Unsupervised Learning): Data tidak memiliki label. Sistem mencoba menemukan pola sendiri.\n",
        "*   Pembelajaran Semiterawasi (Semi-supervised Learning): Menggunakan sebagian data berlabel dan sebagian tidak. Contoh: pengenalan wajah di Google Photos.\n",
        "*   Pembelajaran Penguatan (Reinforcement Learning): Sistem belajar dari lingkungan melalui umpan balik berupa hadiah atau hukuman. Contoh: AlphaGo."
      ],
      "metadata": {
        "id": "cyut3flRxjhN"
      }
    },
    {
      "cell_type": "markdown",
      "source": [
        "### 2. Berdasarkan Cara Belajar"
      ],
      "metadata": {
        "id": "VKEKrvCFyogm"
      }
    },
    {
      "cell_type": "markdown",
      "source": [
        "*   Pembelajaran Online: Model belajar secara bertahap dari data yang masuk satu per satu atau dalam kelompok kecil. Cocok untuk data yang terus bertambah.\n",
        "*   Pembelajaran Batch: Model dilatih sekaligus dengan seluruh data. Tidak fleksibel terhadap data baru."
      ],
      "metadata": {
        "id": "tSEv-_Obyyn3"
      }
    },
    {
      "cell_type": "markdown",
      "source": [
        "### 3. Berdasarkan Pendekatan Umum"
      ],
      "metadata": {
        "id": "MbcaZoFayzKt"
      }
    },
    {
      "cell_type": "markdown",
      "source": [
        "*   Berbasis Contoh (Instance-Based): Sistem mengingat data pelatihan dan membuat keputusan berdasarkan kemiripan.\n",
        "\n",
        "*   Berbasis Model (Model-Based): Sistem membangun model matematika berdasarkan data dan menggunakan model itu untuk prediksi baru."
      ],
      "metadata": {
        "id": "ES6FvkW8y1t1"
      }
    },
    {
      "cell_type": "markdown",
      "source": [
        "## Tantangan dalam Machine Learning"
      ],
      "metadata": {
        "id": "KVkA_FPCzI43"
      }
    },
    {
      "cell_type": "markdown",
      "source": [
        "Tantangan dalam ML secara garis besar dapat dikategorikan menjadi dua kategori yaitu:"
      ],
      "metadata": {
        "id": "pRpSpa21zKd_"
      }
    },
    {
      "cell_type": "markdown",
      "source": [
        "### 1. Masalah pada Data"
      ],
      "metadata": {
        "id": "SZBEFL3Hzc8d"
      }
    },
    {
      "cell_type": "markdown",
      "source": [
        "*   Jumlah data tidak cukup: Sebagian besar algoritma ML membutuhkan banyak data untuk hasil yang baik.\n",
        "\n",
        "*   Data tidak mewakili kondisi nyata: Jika data pelatihan tidak mencerminkan situasi sebenarnya, model akan menghasilkan prediksi yang salah.\n",
        "\n",
        "*   Data berkualitas rendah: Adanya kesalahan atau noise dapat menghambat proses belajar.\n",
        "\n",
        "*   Fitur tidak relevan: Model tidak akan bekerja baik jika informasi yang digunakan tidak penting. Dibutuhkan teknik feature engineering."
      ],
      "metadata": {
        "id": "6isW8TaCzga-"
      }
    },
    {
      "cell_type": "markdown",
      "source": [
        "### 2. Masalah pada Model"
      ],
      "metadata": {
        "id": "zVo34fo5zivu"
      }
    },
    {
      "cell_type": "markdown",
      "source": [
        "*   Overfitting: Model terlalu cocok dengan data pelatihan, tapi gagal memprediksi data baru. Solusi: sederhanakan model, kurangi noise, atau gunakan teknik regularisasi.\n",
        "\n",
        "*   Underfitting: Model terlalu sederhana sehingga tidak mampu menangkap pola dalam data. Solusi: gunakan model lebih kompleks, atau tambahkan fitur yang lebih informatif."
      ],
      "metadata": {
        "id": "CksRa0ZyzkEu"
      }
    },
    {
      "cell_type": "markdown",
      "source": [
        "## Evaluasi dan Validasi Model"
      ],
      "metadata": {
        "id": "8vtVvNaNzzyu"
      }
    },
    {
      "cell_type": "markdown",
      "source": [
        "Untuk menilai apakah model bekerja dengan baik, perlu dilakukan pengujian pada data yang belum pernah digunakan sebelumnya.\n",
        "\n",
        "*   Pemisahan data: Data dibagi menjadi set pelatihan dan set pengujian. Tujuannya agar model diuji dengan data \"baru\".\n",
        "\n",
        "*   Penyetelan model dan hyperparameter: Gunakan sebagian data sebagai set validasi. Pilih model terbaik berdasarkan performanya di set ini, lalu uji kembali di data pengujian.\n",
        "\n",
        "*   Cross-validation: Teknik evaluasi berulang yang lebih akurat namun membutuhkan waktu lebih lama.\n",
        "\n",
        "*   Ketidaksesuaian data: Jika data pelatihan berbeda dengan data saat model diterapkan, hasil bisa tidak akurat. Diperlukan penyesuaian data atau pendekatan train-dev set untuk diagnosis masalah."
      ],
      "metadata": {
        "id": "0Ck6eFwgz0ju"
      }
    },
    {
      "cell_type": "markdown",
      "source": [
        "## Teorema No Free Lunch (NFL)"
      ],
      "metadata": {
        "id": "jsGfvuI8z04u"
      }
    },
    {
      "cell_type": "markdown",
      "source": [
        "Teorema ini menyatakan bahwa tidak ada satu model yang paling baik untuk semua jenis masalah. Oleh karena itu, penting untuk mencoba beberapa model dan memilih yang paling sesuai dengan karakteristik data yang dihadapi."
      ],
      "metadata": {
        "id": "Xo-JBDejz1H2"
      }
    }
  ]
}

{
  "nbformat": 4,
  "nbformat_minor": 0,
  "metadata": {
    "colab": {
      "provenance": [],
      "authorship_tag": "ABX9TyMbPPr0ew1FPv2L8gW6Oxj9",
      "include_colab_link": true
    },
    "kernelspec": {
      "name": "python3",
      "display_name": "Python 3"
    },
    "language_info": {
      "name": "python"
    }
  },
  "cells": [
    {
      "cell_type": "markdown",
      "metadata": {
        "id": "view-in-github",
        "colab_type": "text"
      },
      "source": [
        "<a href=\"https://colab.research.google.com/github/muhiqbalalamin/DeepLearning-UAS/blob/main/Chapter_9_Teori.ipynb\" target=\"_parent\"><img src=\"https://colab.research.google.com/assets/colab-badge.svg\" alt=\"Open In Colab\"/></a>"
      ]
    },
    {
      "cell_type": "markdown",
      "source": [
        "# **Unsupervised Learning Techniques**"
      ],
      "metadata": {
        "id": "vQfpQ4x_o7Fw"
      }
    },
    {
      "cell_type": "markdown",
      "source": [
        "## Pendahuluan\n",
        "Unsupervised Learning merupakan pendekatan dalam Machine Learning di mana data tidak memiliki label target. Tujuan utamanya adalah untuk menemukan struktur tersembunyi, pola, atau representasi dari data.\n",
        "\n",
        "Contoh penerapannya:\n",
        "\n",
        "* Segmentasi pelanggan\n",
        "\n",
        "* Reduksi dimensi\n",
        "\n",
        "* Deteksi anomali\n",
        "\n",
        "* Generative modeling\n",
        "\n",
        "## Clustering\n",
        "Clustering adalah teknik untuk mengelompokkan instance yang memiliki kemiripan ke dalam kelompok atau cluster yang sama.\n",
        "\n",
        "## K-Means Clustering\n",
        "Salah satu algoritma clustering yang paling populer.\n",
        "\n",
        "Tujuan\n",
        "Mengelompokkan data dengan cara meminimalkan Within-Cluster Sum of Squares (WCSS):\n",
        "\n",
        "\\[\n",
        "$J = \\sum_{i=1}^{k} \\sum_{x \\in C_i} \\|x - \\mu_i\\|^2$\n",
        "\\]\n",
        "\n",
        "- \\($ C_i $\\): cluster ke-i\n",
        "- \\($ \\mu_i $\\): centroid dari cluster ke-i\n",
        "\n",
        "## K-Means++\n",
        "Metode inisialisasi centroid yang lebih cerdas untuk menghindari konvergensi pada solusi lokal.\n",
        "\n",
        "## Evaluasi Kinerja\n",
        "* Inertia: total WCSS\n",
        "\n",
        "* Silhouette Score:\n",
        "\n",
        "\\[\n",
        "$s = \\frac{b - a}{\\max(a, b)}$\n",
        "\\]\n",
        "\n",
        "- \\($ a $\\): rata-rata jarak intra-cluster\n",
        "- \\($ b $\\): rata-rata jarak ke cluster terdekat lainnya\n",
        "\n",
        "##  K-Means Batasan\n",
        "\n",
        "- Harus menentukan jumlah cluster \\($ k $\\)\n",
        "- Tidak cocok untuk cluster non-sferis\n",
        "- Sensitif terhadap outlier"
      ],
      "metadata": {
        "id": "UfH8ak5vo-dt"
      }
    },
    {
      "cell_type": "markdown",
      "source": [
        "# **DBSCAN (Density-Based Spatial Clustering of Applications with Noise)**"
      ],
      "metadata": {
        "id": "PkRn6igEpZww"
      }
    },
    {
      "cell_type": "markdown",
      "source": [
        "Clustering berbasis kepadatan yang mampu mengenali bentuk cluster arbitrer serta outlier.\n",
        "\n",
        "## Parameter Utama\n",
        "* 𝜀 : radius pencarian (eps)\n",
        "\n",
        "* 𝑚\n",
        "𝑖\n",
        "𝑛\n",
        "𝑃\n",
        "𝑡\n",
        "𝑠\n",
        ": jumlah minimum titik dalam radius untuk membentuk cluster\n",
        "\n",
        "## Jenis Titik:\n",
        "* Core point: memiliki ≥ minPts dalam radius\n",
        "𝜀\n",
        "\n",
        "* Border point: berada dalam radius core point, tetapi < minPts\n",
        "\n",
        "* Noise point: tidak termasuk dua kategori di atas\n",
        "\n",
        "## Kelebihan\n",
        "Tidak memerlukan penentuan jumlah cluster\n",
        "\n",
        "Secara alami dapat mendeteksi outlier\n",
        "\n",
        "Cocok untuk data dengan bentuk cluster yang kompleks"
      ],
      "metadata": {
        "id": "VagJIl1_pdNm"
      }
    },
    {
      "cell_type": "markdown",
      "source": [
        "# **Hierarchical Clustering**\n",
        "Metode clustering yang membentuk dendrogram secara:\n",
        "\n",
        "* Bottom-up (agglomerative)\n",
        "\n",
        "* Top-down (divisive)\n",
        "\n",
        "## Agglomerative Clustering\n",
        "* Setiap titik data awalnya dianggap sebagai satu cluster\n",
        "\n",
        "* Kemudian cluster terdekat digabung secara bertahap\n",
        "\n",
        "## Kriteria Penggabungan (Linkage):\n",
        "* Single linkage: jarak minimum antar titik\n",
        "\n",
        "* Complete linkage: jarak maksimum antar titik\n",
        "\n",
        "* Average linkage: rata-rata jarak antar semua pasangan titik\n",
        "\n",
        "Dendrogram dapat dipotong pada level tertentu untuk menentukan jumlah cluster akhir."
      ],
      "metadata": {
        "id": "OAUccopxpvAP"
      }
    },
    {
      "cell_type": "markdown",
      "source": [
        "# **Gaussian Mixture Models (GMM)**\n",
        "Model probabilistik yang mengasumsikan bahwa data berasal dari kombinasi beberapa distribusi Gaussian.\n",
        "\n",
        "## Fungsi Distribusi Gaussian Multivariat\n",
        "\\[\n",
        "$p(x) = \\frac{1}{(2\\pi)^{n/2} |\\Sigma|^{1/2}} \\exp\\left( -\\frac{1}{2} (x - \\mu)^T \\Sigma^{-1} (x - \\mu) \\right)$\n",
        "\\]\n",
        "\n",
        "- \\($ \\mu $\\): mean vektor\n",
        "- \\($ \\Sigma $\\): covariance matrix\n",
        "\n",
        "##  Fungsi Tujuan:\n",
        "Modelkan campuran distribusi Gaussian dengan bobot π k:\n",
        "\n",
        "\\[\n",
        "$p(x) = \\sum_{k=1}^{K} \\pi_k \\cdot \\mathcal{N}(x | \\mu_k, \\Sigma_k)$\n",
        "\\]\n",
        "\n",
        "# **Algoritma EM (Expectation-Maximization)**\n",
        "1. E-step: menghitung probabilitas setiap data berasal dari masing-masing komponen\n",
        "\n",
        "2. M-step: memperbarui parameter distribusi"
      ],
      "metadata": {
        "id": "UVxbuAfip61e"
      }
    },
    {
      "cell_type": "markdown",
      "source": [
        "# **Pemilihan Model**\n",
        "Gunakan Bayesian Information Criterion (BIC) atau Akaike Information Criterion (AIC) untuk memilih jumlah cluster pada GMM:\n",
        "\n",
        "* AIC: penalti ringan terhadap kompleksitas\n",
        "\n",
        "* BIC: penalti lebih berat terhadap kompleksitas\n",
        "\n",
        "# **Deteksi Anomali**\n",
        "Teknik clustering dan estimasi kepadatan seperti GMM dapat digunakan untuk:\n",
        "\n",
        "* Mendeteksi data yang memiliki probabilitas sangat rendah\n",
        "\n",
        "* Menandai titik-titik tersebut sebagai outlier\n",
        "\n",
        "# **Model-Based vs Distance-Based Clustering**\n",
        "| Metode      | Cocok Untuk                                      | Sensitivitas                      |\n",
        "| ----------- | ------------------------------------------------ | --------------------------------- |\n",
        "| **K-Means** | Cluster sferis, jarak Euclidean                  | Tinggi terhadap outlier           |\n",
        "| **DBSCAN**  | Cluster arbitrer & deteksi noise                 | Sensitif terhadap parameter *eps* |\n",
        "| **GMM**     | Cluster tumpang tindih, pendekatan probabilistik | Estimasi parameter kompleks       |\n"
      ],
      "metadata": {
        "id": "7bJnIoMeqd-Q"
      }
    },
    {
      "cell_type": "markdown",
      "source": [
        "# **Kesimpulan**\n",
        "* Clustering memungkinkan penggalian struktur tersembunyi dari data tanpa label.\n",
        "\n",
        "* K-Means efektif dan efisien untuk data dengan bentuk sferis.\n",
        "\n",
        "* DBSCAN unggul dalam mendeteksi bentuk cluster yang kompleks dan outlier.\n",
        "\n",
        "* GMM menawarkan pendekatan probabilistik yang fleksibel.\n",
        "\n",
        "* Evaluasi dan pemilihan model sangat penting untuk memastikan kualitas hasil clustering.\n",
        "\n",
        "# **Referensi**\n",
        "Géron, A. (2019). Hands-On Machine Learning with Scikit-Learn, Keras, and TensorFlow. O'Reilly Media."
      ],
      "metadata": {
        "id": "CtxSdQFFqr6f"
      }
    }
  ]
}

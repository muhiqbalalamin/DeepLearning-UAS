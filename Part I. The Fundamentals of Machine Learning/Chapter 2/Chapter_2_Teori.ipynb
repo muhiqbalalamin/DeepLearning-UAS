{
  "nbformat": 4,
  "nbformat_minor": 0,
  "metadata": {
    "colab": {
      "provenance": [],
      "authorship_tag": "ABX9TyM/gqLgLhraOm4bk+mus6Sv",
      "include_colab_link": true
    },
    "kernelspec": {
      "name": "python3",
      "display_name": "Python 3"
    },
    "language_info": {
      "name": "python"
    }
  },
  "cells": [
    {
      "cell_type": "markdown",
      "metadata": {
        "id": "view-in-github",
        "colab_type": "text"
      },
      "source": [
        "<a href=\"https://colab.research.google.com/github/muhiqbalalamin/DeepLearning-UAS/blob/main/Chapter_2_Teori.ipynb\" target=\"_parent\"><img src=\"https://colab.research.google.com/assets/colab-badge.svg\" alt=\"Open In Colab\"/></a>"
      ]
    },
    {
      "cell_type": "markdown",
      "source": [
        "# **End-to-End Machine Learning Project**"
      ],
      "metadata": {
        "id": "e7NTUQAN0z6f"
      }
    },
    {
      "cell_type": "markdown",
      "source": [
        "## Tujuan Bab"
      ],
      "metadata": {
        "id": "UOTRnsri04BI"
      }
    },
    {
      "cell_type": "markdown",
      "source": [
        "Bab ini menjelaskan tahapan-tahapan dalam proyek Machine Learning secara menyeluruh menggunakan data dunia nyata. Studi kasus yang digunakan adalah prediksi harga rumah di California berdasarkan data sensus tahun 1990."
      ],
      "metadata": {
        "id": "h325LBiF2-pu"
      }
    },
    {
      "cell_type": "markdown",
      "source": [
        "## Tahapan Utama"
      ],
      "metadata": {
        "id": "uh109dpB3AOv"
      }
    },
    {
      "cell_type": "markdown",
      "source": [
        "1.   Memahami gambaran umum proyek\n",
        "\n",
        "2.   Mengumpulkan data\n",
        "\n",
        "3.   Mengeksplorasi dan memvisualisasikan data untuk mendapatkan wawasan\n",
        "\n",
        "4.   Mempersiapkan data untuk algoritma Machine Learning\n",
        "\n",
        "5.   Memilih dan melatih model\n",
        "\n",
        "6.   Menyempurnakan model (fine-tuning)\n",
        "\n",
        "7.   Menyajikan solusi\n",
        "\n",
        "8.   Menerapkan, memantau, dan memelihara sistem"
      ],
      "metadata": {
        "id": "c5Tbh6K03K_e"
      }
    },
    {
      "cell_type": "markdown",
      "source": [
        "## 1. Memahami Gambaran Umum"
      ],
      "metadata": {
        "id": "zjh4pGel3cm-"
      }
    },
    {
      "cell_type": "markdown",
      "source": [
        "Sebagai data scientist pemula, kamu diminta membuat model yang dapat memprediksi median housing price berdasarkan data blok sensus di California.\n",
        "\n",
        "Pertanyaan kunci:\n",
        "\n",
        "*   Apa tujuan bisnis dari model ini?\n",
        "\n",
        "*   Apa input dan output dari sistem?\n",
        "\n",
        "*   Apa bentuk akhir solusi, dan bagaimana hasilnya akan dimanfaatkan?\n",
        "\n",
        "Dalam kasus ini, model digunakan untuk membantu sistem investasi real estat dalam menilai kelayakan investasi di suatu distrik."
      ],
      "metadata": {
        "id": "vUeViny13nUu"
      }
    },
    {
      "cell_type": "markdown",
      "source": [
        "## 2. Merumuskan Masalah"
      ],
      "metadata": {
        "id": "JImwyeL33vA3"
      }
    },
    {
      "cell_type": "markdown",
      "source": [
        "Klasifikasi masalah:\n",
        "\n",
        "* Supervised Learning: karena data memiliki label (harga rumah)\n",
        "\n",
        "* Regresi: karena target berupa nilai kontinu\n",
        "\n",
        "* Univariate Regression: karena hanya ada satu variabel target\n",
        "\n",
        "* Batch Learning: karena data bersifat statis (tidak berubah secara terus-menerus)"
      ],
      "metadata": {
        "id": "vmQ7m-Ta3xpl"
      }
    },
    {
      "cell_type": "markdown",
      "source": [
        "## 3. Menentukan Metrik Evaluasi"
      ],
      "metadata": {
        "id": "Zsd0C__g3yI-"
      }
    },
    {
      "cell_type": "markdown",
      "source": [
        "Untuk kasus regresi, metrik umum yang digunakan adalah Root Mean Squared Error (RMSE):\n",
        "\n",
        "\\[\n",
        "$\\text{RMSE}(X, h) = \\sqrt{\\frac{1}{m} \\sum_{i=1}^{m} (h(x^{(i)}) - y^{(i)})^2}$\n",
        "\\]\n",
        "\n",
        "Keterangan:\n",
        "- \\($ m $\\): jumlah instance\n",
        "- \\($ h(x^{(i)}) $\\): prediksi model\n",
        "- \\($ y^{(i)} $\\): label aktual\n",
        "\n",
        "RMSE sensitif terhadap outlier karena menghitung kuadrat dari error.\n",
        "\n",
        "Alternatif lainnya:\n",
        "* Mean Absolute Error (MAE):\n",
        "\n",
        "\\[\n",
        "$\\text{MAE} = \\frac{1}{m} \\sum_{i=1}^{m} |h(x^{(i)}) - y^{(i)}|$\n",
        "\\]"
      ],
      "metadata": {
        "id": "PTwvfS8W3yeO"
      }
    },
    {
      "cell_type": "markdown",
      "source": [
        "## 4. Mengumpulkan Data"
      ],
      "metadata": {
        "id": "2pl76Yy330Mm"
      }
    },
    {
      "cell_type": "markdown",
      "source": [
        "Dataset tersedia dalam file CSV (housing.csv) yang dikompresi dalam housing.tgz.\n",
        "\n",
        "Informasi dalam dataset meliputi:\n",
        "\n",
        "* Lokasi geografis (longitude, latitude)\n",
        "\n",
        "* Usia bangunan, jumlah kamar, populasi, pendapatan median\n",
        "\n",
        "* Median harga rumah\n",
        "\n",
        "* Kategori jarak ke laut (ocean_proximity)"
      ],
      "metadata": {
        "id": "z4GztJhY3y0e"
      }
    },
    {
      "cell_type": "markdown",
      "source": [
        "## 5. Eksplorasi dan Visualisasi Data"
      ],
      "metadata": {
        "id": "gyArGi1i40S2"
      }
    },
    {
      "cell_type": "markdown",
      "source": [
        "Langkah-langkah eksplorasi:\n",
        "\n",
        "* Gunakan statistik deskriptif dengan fungsi describe()\n",
        "\n",
        "* Visualisasikan distribusi masing-masing atribut\n",
        "\n",
        "* Periksa nilai-nilai yang hilang (missing values)\n",
        "\n",
        "* Analisis korelasi antar fitur\n",
        "\n",
        "* Gunakan scatter plot, histogram, dan correlation matrix\n",
        "\n",
        "Contoh pembuatan fitur baru:\n",
        "\n",
        "* rooms_per_household\n",
        "\n",
        "* bedrooms_per_room\n",
        "\n",
        "* population_per_household\n",
        "\n",
        "Fitur-fitur ini dapat memberikan informasi lebih dibanding fitur mentah."
      ],
      "metadata": {
        "id": "R9Rb8tN-40hG"
      }
    },
    {
      "cell_type": "markdown",
      "source": [
        "## 6. Mempersiapkan Data"
      ],
      "metadata": {
        "id": "MWeTCXri40xG"
      }
    },
    {
      "cell_type": "markdown",
      "source": [
        "### Pembersihan Data\n",
        "* Tangani nilai hilang (dihapus, median, atau mean)\n",
        "\n",
        "* Standarisasi atau normalisasi nilai fitur\n",
        "\n",
        "* Encoding fitur kategorikal: Gunakan One-Hot Encoding untuk ocean_proximity\n",
        "\n",
        "### Feature Scaling\n",
        "* Min-Max Scaling (normalisasi)\n",
        "\n",
        "* Standardization (mean = 0, std = 1)\n",
        "\n",
        "### Pipelines\n",
        "Gunakan pipeline untuk memastikan preprocessing berjalan secara konsisten, dapat direproduksi, dan rapi."
      ],
      "metadata": {
        "id": "n7N8s2K8409W"
      }
    },
    {
      "cell_type": "markdown",
      "source": [
        "## 7. Memilih dan Melatih Model"
      ],
      "metadata": {
        "id": "hzmboIB35a1O"
      }
    },
    {
      "cell_type": "markdown",
      "source": [
        "Beberapa model yang diuji:\n",
        "\n",
        "* Linear Regression\n",
        "\n",
        "* Decision Tree\n",
        "\n",
        "* Random Forest\n",
        "\n",
        "Evaluasi model dilakukan dengan RMSE pada training set dan validation set."
      ],
      "metadata": {
        "id": "TRKe5Pzr5bGu"
      }
    },
    {
      "cell_type": "markdown",
      "source": [
        "## 8. Evaluasi Menggunakan Cross-Validation"
      ],
      "metadata": {
        "id": "UYkAWK5q5p_2"
      }
    },
    {
      "cell_type": "markdown",
      "source": [
        "### K-Fold Cross-Validation\n",
        "Langkah-langkah:\n",
        "\n",
        "* Bagi dataset menjadi K subset\n",
        "\n",
        "* Latih model pada K-1 subset, lalu uji pada subset ke-K\n",
        "\n",
        "* Ulangi proses sebanyak K kali dan rata-rata hasilnya\n",
        "\n",
        "Keunggulan:\n",
        "\n",
        "* Estimasi performa lebih akurat\n",
        "\n",
        "* Mengurangi risiko overfitting"
      ],
      "metadata": {
        "id": "EKR6QeH75ten"
      }
    },
    {
      "cell_type": "markdown",
      "source": [
        "## 9. Fine-Tuning Model"
      ],
      "metadata": {
        "id": "R5fh0I_N51vu"
      }
    },
    {
      "cell_type": "markdown",
      "source": [
        "Teknik Fine-Tuning:\n",
        "* Grid Search: eksplorasi menyeluruh seluruh kombinasi hyperparameter\n",
        "\n",
        "* Randomized Search: sampling acak dari kombinasi parameter (lebih efisien)\n",
        "\n",
        "* Ensemble Learning: gabungkan beberapa model terbaik untuk hasil yang lebih stabil\n",
        "\n",
        "Setelah model terbaik diperoleh, lakukan evaluasi akhir menggunakan test set."
      ],
      "metadata": {
        "id": "kyZQV4MA51_X"
      }
    },
    {
      "cell_type": "markdown",
      "source": [
        "## 10. Implementasi, Monitoring, dan Pemeliharaan"
      ],
      "metadata": {
        "id": "MmwH1bJu523X"
      }
    },
    {
      "cell_type": "markdown",
      "source": [
        "Langkah-langkah penting:\n",
        "\n",
        "* Backup model dan data\n",
        "\n",
        "* Logging performa model\n",
        "\n",
        "* Versi model dan data secara teratur\n",
        "\n",
        "* Siapkan subset data untuk pengujian lanjutan\n",
        "\n",
        "* Otomatiskan retraining dan deployment jika diperlukan"
      ],
      "metadata": {
        "id": "WqWM5A3d52ju"
      }
    },
    {
      "cell_type": "markdown",
      "source": [
        "## Kesimpulan"
      ],
      "metadata": {
        "id": "IiKiCaG06Pbu"
      }
    },
    {
      "cell_type": "markdown",
      "source": [
        "Proyek Machine Learning bukan sekadar membangun model, melainkan merupakan proses menyeluruh yang mencakup pemahaman masalah, pengumpulan dan eksplorasi data, persiapan data, pemilihan serta pelatihan model, hingga implementasi dan pemeliharaan sistem. Tahap eksplorasi data dan preprocessing memiliki peran yang sangat krusial dalam menentukan keberhasilan model, karena kualitas input sangat memengaruhi kualitas output. Evaluasi performa model pun harus dilakukan secara objektif dengan menggunakan validation set dan test set agar hasilnya dapat diandalkan. Selain itu, untuk memastikan sistem tetap relevan dan akurat dalam jangka panjang, otomatisasi, dokumentasi yang baik, serta strategi monitoring dan retraining model perlu direncanakan dengan matang. Pendekatan end-to-end ini menjadi fondasi penting dalam penerapan Machine Learning di dunia nyata.\n",
        "\n"
      ],
      "metadata": {
        "id": "lvNvM6iA6QS3"
      }
    },
    {
      "cell_type": "markdown",
      "source": [
        "## Referensi"
      ],
      "metadata": {
        "id": "d-KO5ciy6T0-"
      }
    },
    {
      "cell_type": "markdown",
      "source": [
        "Géron, A. (2019). Hands-On Machine Learning with Scikit-Learn, Keras, and TensorFlow. O'Reilly Media."
      ],
      "metadata": {
        "id": "B-YoBRWf6VMW"
      }
    }
  ]
}

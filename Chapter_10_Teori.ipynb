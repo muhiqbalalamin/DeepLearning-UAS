{
  "nbformat": 4,
  "nbformat_minor": 0,
  "metadata": {
    "colab": {
      "provenance": [],
      "authorship_tag": "ABX9TyPOeMjEjG4+yEr/m4kBQyiQ",
      "include_colab_link": true
    },
    "kernelspec": {
      "name": "python3",
      "display_name": "Python 3"
    },
    "language_info": {
      "name": "python"
    }
  },
  "cells": [
    {
      "cell_type": "markdown",
      "metadata": {
        "id": "view-in-github",
        "colab_type": "text"
      },
      "source": [
        "<a href=\"https://colab.research.google.com/github/muhiqbalalamin/DeepLearning-UAS/blob/main/Chapter_10_Teori.ipynb\" target=\"_parent\"><img src=\"https://colab.research.google.com/assets/colab-badge.svg\" alt=\"Open In Colab\"/></a>"
      ]
    },
    {
      "cell_type": "markdown",
      "source": [
        "# **Introduction to Artificial Neural Networks**"
      ],
      "metadata": {
        "id": "SBqkFnFluV04"
      }
    },
    {
      "cell_type": "markdown",
      "source": [
        "## Pendahuluan\n",
        "Artificial Neural Networks (ANN) merupakan dasar dari Deep Learning. ANN terinspirasi oleh struktur dan cara kerja otak manusia khususnya neuron biologis meskipun dalam bentuk yang jauh lebih sederhana.\n",
        "\n",
        "ANN banyak digunakan dalam berbagai bidang, seperti:\n",
        "\n",
        "* Klasifikasi citra\n",
        "\n",
        "* Pengenalan suara\n",
        "\n",
        "* Pemrosesan bahasa alami\n",
        "\n",
        "Permainan dan pengendalian robot\n",
        "##  Struktur Dasar Neuron Buatan\n",
        "\n",
        "Neuron menerima input \\($ x_1, x_2, ..., x_n $\\), masing-masing dengan bobot \\($ w_1, w_2, ..., w_n $\\), dan menghasilkan output menggunakan fungsi aktivasi:\n",
        "\n",
        "###  Perhitungan Neuron:\n",
        "\n",
        "\\[\n",
        "$z = \\sum_{i=1}^{n} w_i x_i + b = \\mathbf{w}^T \\mathbf{x} + b$\n",
        "\\]\n",
        "\n",
        "\\[\n",
        "$\\hat{y} = \\phi(z)$\n",
        "\\]\n",
        "\n",
        "Keterangan:\n",
        "- \\($ b $\\): bias\n",
        "- \\($ \\phi $\\): fungsi aktivasi (sigmoid, tanh, ReLU)"
      ],
      "metadata": {
        "id": "QBMrrfDsuZ42"
      }
    },
    {
      "cell_type": "markdown",
      "source": [
        "## Arsitektur Jaringan Saraf\n",
        "ANN terdiri dari beberapa lapisan:\n",
        "\n",
        "* Input Layer\n",
        "\n",
        "* Hidden Layers (satu atau lebih)\n",
        "\n",
        "* Output Layer\n",
        "\n",
        "Setiap lapisan berisi sejumlah neuron. Jika memiliki banyak hidden layer, jaringan ini disebut Deep Neural Network (DNN).\n",
        "\n",
        "## Feedforward Neural Network\n",
        "Feedforward Neural Network adalah jenis ANN di mana informasi mengalir searah dari input → hidden layers → output, tanpa adanya umpan balik (loop). Disebut feedforward karena data bergerak maju tanpa kembali ke input.\n",
        "\n",
        "## Fungsi Aktivasi Umum\n",
        "1. Step Function\n",
        "\n",
        "* Fungsi biner yang tidak terdiferensiasi, sehingga tidak digunakan dalam pelatihan modern.\n",
        "2. Sigmoid\n",
        "\n",
        "\\[\n",
        "$\\sigma(z) = \\frac{1}{1 + e^{-z}}$\n",
        "\\]\n",
        "\n",
        "- Range: (0,1)\n",
        "- Kelemahan: masalah vanishing gradient\n",
        "\n",
        "3. Tanh\n",
        "\n",
        "\\[\n",
        "$\\tanh(z) = \\frac{e^z - e^{-z}}{e^z + e^{-z}}$\n",
        "\\]\n",
        "\n",
        "- Range: (-1,1)\n",
        "- Lebih baik karena zero-centered\n",
        "\n",
        "4. ReLU (Rectified Linear Unit):\n",
        "\n",
        "\\[\n",
        "$\\text{ReLU}(z) = \\max(0, z)$\n",
        "\\]\n",
        "\n",
        "- Cepat dan stabil\n",
        "- Rentan terhadap masalah dying ReLU"
      ],
      "metadata": {
        "id": "7nwS3dawuvQf"
      }
    },
    {
      "cell_type": "markdown",
      "source": [
        "## Fungsi Loss\n",
        "### Untuk Regresi:\n",
        "Mean Squared Error (MSE):\n",
        "\n",
        "\\[\n",
        "$\\text{MSE} = \\frac{1}{m} \\sum_{i=1}^{m} (\\hat{y}^{(i)} - y^{(i)})^2$\n",
        "\\]\n",
        "\n",
        "### Untuk Klasifikasi:\n",
        "\n",
        "Cross-Entropy Loss:\n",
        "\n",
        "\\[\n",
        "$\\mathcal{L} = - \\sum_{i=1}^{m} \\sum_{k=1}^{K} y_k^{(i)} \\log(\\hat{y}_k^{(i)})$\n",
        "\\]\n",
        "\n",
        "## Backpropagation\n",
        "Backpropagation adalah proses pelatihan ANN dengan menggunakan metode gradient descent. Langkah-langkahnya meliputi:\n",
        "\n",
        "1. Forward pass: menghitung output berdasarkan input.\n",
        "\n",
        "2. Loss computation: mengevaluasi nilai loss.\n",
        "\n",
        "3. Backward pass (Backpropagation):\n",
        "\n",
        "   * Menghitung gradien dari loss terhadap setiap parameter.\n",
        "\n",
        "   * Menggunakan aturan rantai (chain rule) untuk menyebarkan error dari output ke input.\n",
        "\n",
        "4. Update bobot: menggunakan algoritma optimisasi, seperti Stochastic Gradient Descent (SGD):\n",
        "\n",
        "\\[\n",
        "$\\theta := \\theta - \\eta \\cdot \\nabla_\\theta \\mathcal{L}$\n",
        "\\]\n",
        "\n",
        "## Contoh Pembelajaran\n",
        "* Dataset: MNIST (angka tulisan tangan)\n",
        "\n",
        "* Input: gambar 28x28 piksel (784 fitur)\n",
        "\n",
        "* Hidden layers: beberapa lapisan dengan ReLU\n",
        "\n",
        "* Output layer: Softmax (untuk klasifikasi 10 kelas)"
      ],
      "metadata": {
        "id": "IjVASQMuvPpv"
      }
    },
    {
      "cell_type": "markdown",
      "source": [
        "## Implementasi dengan Framework Modern\n",
        "Framework modern seperti TensorFlow, Keras, dan PyTorch memudahkan pengembangan ANN.\n",
        "Komponen seperti Dense, Flatten, dan Activation digunakan untuk menyusun arsitektur jaringan secara modular.\n",
        "\n",
        "# **Kesimpulan**\n",
        "* ANN adalah fondasi utama dari Deep Learning.\n",
        "\n",
        "* Jaringan ini terdiri dari neuron buatan yang mengombinasikan bobot dan fungsi aktivasi.\n",
        "\n",
        "* Proses pelatihan dilakukan dengan algoritma gradient descent dan backpropagation.\n",
        "\n",
        "* Fungsi aktivasi seperti ReLU dan fungsi loss seperti cross-entropy sangat penting dalam performa jaringan.\n",
        "\n",
        "* Framework modern sangat membantu dalam membangun dan melatih model secara efisien.\n",
        "\n",
        "# **Referensi**\n",
        "Géron, A. (2019). Hands-On Machine Learning with Scikit-Learn, Keras, and TensorFlow. O'Reilly Media.\n",
        "\n"
      ],
      "metadata": {
        "id": "-o508fCcvp2P"
      }
    }
  ]
}
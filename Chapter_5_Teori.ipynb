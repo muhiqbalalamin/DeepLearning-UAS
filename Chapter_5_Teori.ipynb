{
  "nbformat": 4,
  "nbformat_minor": 0,
  "metadata": {
    "colab": {
      "provenance": [],
      "authorship_tag": "ABX9TyO1Khahr2vBEvv2nqrixBtk",
      "include_colab_link": true
    },
    "kernelspec": {
      "name": "python3",
      "display_name": "Python 3"
    },
    "language_info": {
      "name": "python"
    }
  },
  "cells": [
    {
      "cell_type": "markdown",
      "metadata": {
        "id": "view-in-github",
        "colab_type": "text"
      },
      "source": [
        "<a href=\"https://colab.research.google.com/github/muhiqbalalamin/DeepLearning-UAS/blob/main/Chapter_5_Teori.ipynb\" target=\"_parent\"><img src=\"https://colab.research.google.com/assets/colab-badge.svg\" alt=\"Open In Colab\"/></a>"
      ]
    },
    {
      "cell_type": "markdown",
      "source": [
        "# **Support Vector Machines**"
      ],
      "metadata": {
        "id": "dvCqXiLYW72c"
      }
    },
    {
      "cell_type": "markdown",
      "source": [
        "## Pendahuluan"
      ],
      "metadata": {
        "id": "jhRLKok_W_dz"
      }
    },
    {
      "cell_type": "markdown",
      "source": [
        "Support Vector Machines (SVM) merupakan model Machine Learning yang kuat dan fleksibel. SVM dapat digunakan untuk:\n",
        "\n",
        "* Klasifikasi linier dan non-linier\n",
        "\n",
        "* Regresi\n",
        "\n",
        "* Deteksi outlier\n",
        "\n",
        "SVM sangat cocok digunakan pada dataset kecil hingga menengah yang memiliki pola kompleks."
      ],
      "metadata": {
        "id": "FLkReU1YXFq7"
      }
    },
    {
      "cell_type": "markdown",
      "source": [
        "## Klasifikasi SVM Linier\n",
        "Tujuan utama dari SVM adalah menemukan sebuah hyperplane (bidang keputusan) yang mampu memisahkan kelas dengan margin selebar mungkin.\n",
        "\n",
        "### Konsep “Large Margin Classification”\n",
        "SVM mencari batas keputusan yang:\n",
        "\n",
        "* Memisahkan dua kelas data secara jelas\n",
        "\n",
        "* Memiliki jarak maksimum terhadap titik data terdekat dari masing-masing kelas (support vectors)"
      ],
      "metadata": {
        "id": "Q-ApgciJXJsj"
      }
    },
    {
      "cell_type": "markdown",
      "source": [
        "## Support Vectors\n",
        "Support vectors adalah titik-titik data yang terletak pada batas margin dan menjadi penentu posisi hyperplane.\n",
        "Penambahan data baru di luar margin tidak memengaruhi posisi model atau batas keputusan.\n",
        "\n",
        "## Sensitivitas terhadap Skala Fitur\n",
        "SVM sangat sensitif terhadap skala fitur karena proses optimisasi berusaha memaksimalkan margin. Oleh karena itu, normalisasi atau standarisasi fitur (feature scaling) sangat penting dilakukan sebelum pelatihan model."
      ],
      "metadata": {
        "id": "pPKsX61WXQpT"
      }
    },
    {
      "cell_type": "markdown",
      "source": [
        "## Klasifikasi Hard Margin vs Soft Margin\n",
        "### Hard Margin\n",
        "* Tidak mengizinkan adanya kesalahan klasifikasi\n",
        "\n",
        "* Hanya dapat digunakan jika data dapat dipisahkan secara linier sempurna\n",
        "\n",
        "* Sangat rentan terhadap outlier\n",
        "\n",
        "### Soft Margin\n",
        "* Mengizinkan adanya pelanggaran terhadap margin dalam batas tertentu\n",
        "\n",
        "* Tujuan utamanya adalah menyeimbangkan antara lebar margin dan jumlah kesalahan klasifikasi\n",
        "\n",
        "### Fungsi Objektif Soft Margin\n",
        "\n",
        "\\[\n",
        "$\\min_{w, b, \\zeta} \\left[ \\frac{1}{2} \\|w\\|^2 + C \\sum_{i=1}^m \\zeta_i \\right]$\n",
        "\\]\n",
        "\n",
        "dengan syarat:\n",
        "\n",
        "\\[\n",
        "$t_i(w^\\top x_i + b) \\geq 1 - \\zeta_i, \\quad \\zeta_i \\geq 0$\n",
        "\\]\n",
        "\n",
        "- \\($ C $\\): hyperparameter yang mengatur trade-off"
      ],
      "metadata": {
        "id": "hdINsCK9XSWj"
      }
    },
    {
      "cell_type": "markdown",
      "source": [
        "## Fungsi Kerugian (Loss Function)\n",
        "### Hinge Loss\n",
        "\\[\n",
        "$L(t) = \\max(0, 1 - t)$\n",
        "\\]\n",
        "\n",
        "* Nilai hinge loss = 0 jika data diklasifikasikan dengan benar dan cukup jauh dari batas\n",
        "\n",
        "* Nilai kerugian meningkat secara linear ketika prediksi salah atau terlalu dekat dengan batas keputusan"
      ],
      "metadata": {
        "id": "cB5JsxcmXrc8"
      }
    },
    {
      "cell_type": "markdown",
      "source": [
        "## Kernel Trick\n",
        "### Tujuan\n",
        "Mengatasi masalah klasifikasi non-linier dengan mentransformasikan fitur ke ruang berdimensi lebih tinggi, kemudian menerapkan SVM linier di ruang tersebut.\n",
        "\n",
        "### Fungsi Kernel\n",
        "Fungsi kernel menghitung:\n",
        "\n",
        "\n",
        "\\[\n",
        "$K(a, b) = \\phi(a)^\\top \\phi(b)$\n",
        "\\]\n",
        "\n",
        "Tanpa perlu menghitung \\($ \\phi(x) $\\) secara eksplisit.\n",
        "\n",
        "### Kernel Populer:\n",
        "\n",
        "- **Linear**: \\($ K(a, b) = a^\\top b $\\)\n",
        "- **Polynomial**: \\($ K(a, b) = (\\gamma a^\\top b + r)^d $\\)\n",
        "- **Gaussian RBF**: \\($ K(a, b) = \\exp(-\\gamma \\|a - b\\|^2) $\\)"
      ],
      "metadata": {
        "id": "_-6yEnfLX1tb"
      }
    },
    {
      "cell_type": "markdown",
      "source": [
        "## Kompleksitas Komputasi\n",
        "| Kelas          | Kompleksitas Waktu   | Kernel | Scaling Wajib | Out-of-core |\n",
        "|----------------|----------------------|--------|----------------|--------------|\n",
        "| `LinearSVC`    | \\($ O(m \\cdot n) $\\)   | ❌     | ✅              | ❌           |\n",
        "| `SGDClassifier`| \\($ O(m \\cdot n) $\\)   | ❌     | ✅              | ✅           |\n",
        "| `SVC`          | \\($ O(m^2 \\cdot n) $\\) s/d \\($ O(m^3 \\cdot n) $\\) | ✅ | ✅ | ❌ |\n",
        "\n",
        "- \\($ m $\\): jumlah instance\n",
        "- \\($ n $\\): jumlah fitur"
      ],
      "metadata": {
        "id": "3tZFHsnRYCAD"
      }
    },
    {
      "cell_type": "markdown",
      "source": [
        "## Kernelized SVM dan Dual Problem\n",
        "Untuk menerapkan kernel, SVM menggunakan bentuk dual dari optimisasi.\n",
        "\n",
        "### Fungsi Objektif Dual\n",
        "\\[\n",
        "$\\min_\\alpha \\left[ \\frac{1}{2} \\sum_{i=1}^m \\sum_{j=1}^m \\alpha_i \\alpha_j t_i t_j K(x_i, x_j) - \\sum_{i=1}^m \\alpha_i \\right]$\n",
        "\\]\n",
        "\n",
        "dengan syarat \\($ \\alpha_i \\geq 0 $\\)\n",
        "\n",
        "### Solusi Primal dari Dual\n",
        "\\[\n",
        "$w = \\sum_{i=1}^{m} \\alpha_i t_i x_i$\n",
        "\\]\n",
        "\n",
        "\\[\n",
        "$b = \\frac{1}{n_s} \\sum_{i \\in SV} \\left( t_i - \\sum_{j=1}^{m} \\alpha_j t_j K(x_j, x_i) \\right)$\n",
        "\\]"
      ],
      "metadata": {
        "id": "IsviShmoYG7T"
      }
    },
    {
      "cell_type": "markdown",
      "source": [
        "## Prediksi Menggunakan Kernelized SVM\n",
        "\\[\n",
        "$f(x) = \\sum_{i \\in SV} \\alpha_i t_i K(x_i, x) + b$\n",
        "\\]\n",
        "\n",
        "Prediksi hanya melibatkan support vectors, sehingga lebih efisien dibandingkan menggunakan seluruh data."
      ],
      "metadata": {
        "id": "plzs3ZfKYXjc"
      }
    },
    {
      "cell_type": "markdown",
      "source": [
        "## SVM untuk Regresi (SVR)\n",
        "### Tujuan\n",
        "Menyesuaikan garis (atau kurva) sedemikian rupa sehingga sebagian besar data berada di dalam margin toleransi yang telah ditentukan.\n",
        "\n",
        "### Fungsi Objektif SVR\n",
        "\\[\n",
        "$\\min_{w, b} \\left[ \\frac{1}{2} \\|w\\|^2 + C \\sum \\text{pelanggaran margin} \\right]$\n",
        "\\]\n",
        "\n",
        "- Margin tidak boleh dilewati kecuali dibayar dengan penalti\n",
        "- Hyperparameter \\($ \\epsilon $\\) mengatur lebar margin"
      ],
      "metadata": {
        "id": "-zWQtRpgYdsT"
      }
    },
    {
      "cell_type": "markdown",
      "source": [
        "## Online SVM\n",
        "Untuk versi SVM linier yang dapat belajar secara online, digunakan SGDClassifier dengan hinge loss.\n",
        "\n",
        "Fungsi kerugian:\n",
        "\n",
        "\\[\n",
        "$J(w, b) = \\frac{1}{2} w^\\top w + C \\sum_{i=1}^{m} \\max(0, 1 - t_i (w^\\top x_i + b))$\n",
        "\\]\n"
      ],
      "metadata": {
        "id": "bQtmjD4kYlXL"
      }
    },
    {
      "cell_type": "markdown",
      "source": [
        "# **Kesimpulan**\n",
        "Support Vector Machine (SVM) adalah metode yang dirancang untuk menemukan hyperplane dengan margin terluas guna memisahkan kelas secara optimal. Titik-titik data yang disebut support vectors menjadi elemen kunci dalam proses pelatihan karena secara langsung memengaruhi posisi dan orientasi hyperplane. Dengan menggunakan teknik kernel trick, SVM dapat menangani klasifikasi non-linier tanpa perlu menambahkan fitur secara eksplisit, sehingga memungkinkan pemrosesan data yang kompleks secara efisien. Model ini sangat cocok diterapkan pada dataset berukuran kecil hingga menengah dengan pola yang tidak linier. Selain itu, konsep SVM juga dapat diperluas untuk menyelesaikan masalah regresi melalui pendekatan Support Vector Regression (SVR), yang mempertahankan prinsip margin lebar sambil mengakomodasi prediksi nilai kontinu."
      ],
      "metadata": {
        "id": "tEXOyIwBYxNz"
      }
    },
    {
      "cell_type": "markdown",
      "source": [
        "# **Referensi**\n",
        "Géron, A. (2019). Hands-On Machine Learning with Scikit-Learn, Keras, and TensorFlow. O'Reilly Media."
      ],
      "metadata": {
        "id": "3sIxAiSWYu7j"
      }
    }
  ]
}